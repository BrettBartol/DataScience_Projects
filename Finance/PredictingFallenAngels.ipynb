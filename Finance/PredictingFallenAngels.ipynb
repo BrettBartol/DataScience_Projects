{
 "cells": [
  {
   "cell_type": "markdown",
   "id": "1193b48c",
   "metadata": {},
   "source": [
    "# Predicting Fallen Angels"
   ]
  },
  {
   "cell_type": "code",
   "execution_count": 1,
   "id": "723575c6",
   "metadata": {},
   "outputs": [],
   "source": [
    "import numpy as np\n",
    "import pandas as pd\n",
    "import glob\n",
    "import matplotlib.pyplot as plt\n",
    "\n",
    "import warnings\n",
    "warnings.filterwarnings(\"ignore\")"
   ]
  },
  {
   "cell_type": "markdown",
   "id": "93ce1acf",
   "metadata": {},
   "source": [
    "**Importing Data and Finding Fallen Angels**"
   ]
  },
  {
   "cell_type": "code",
   "execution_count": 2,
   "id": "201b6988",
   "metadata": {},
   "outputs": [],
   "source": [
    "ratings = pd.read_csv('ratingdata.csv')"
   ]
  },
  {
   "cell_type": "code",
   "execution_count": 3,
   "id": "63730f97",
   "metadata": {
    "scrolled": true
   },
   "outputs": [
    {
     "data": {
      "text/html": [
       "<div>\n",
       "<style scoped>\n",
       "    .dataframe tbody tr th:only-of-type {\n",
       "        vertical-align: middle;\n",
       "    }\n",
       "\n",
       "    .dataframe tbody tr th {\n",
       "        vertical-align: top;\n",
       "    }\n",
       "\n",
       "    .dataframe thead th {\n",
       "        text-align: right;\n",
       "    }\n",
       "</style>\n",
       "<table border=\"1\" class=\"dataframe\">\n",
       "  <thead>\n",
       "    <tr style=\"text-align: right;\">\n",
       "      <th></th>\n",
       "      <th>gvkey</th>\n",
       "      <th>splticrm</th>\n",
       "      <th>spsdrm</th>\n",
       "      <th>spsticrm</th>\n",
       "      <th>datadate</th>\n",
       "      <th>gsector</th>\n",
       "      <th>spcindcd</th>\n",
       "      <th>tic</th>\n",
       "    </tr>\n",
       "  </thead>\n",
       "  <tbody>\n",
       "    <tr>\n",
       "      <th>0</th>\n",
       "      <td>1003</td>\n",
       "      <td>NaN</td>\n",
       "      <td>NaN</td>\n",
       "      <td>NaN</td>\n",
       "      <td>2004/06/30</td>\n",
       "      <td>25.0</td>\n",
       "      <td>449.0</td>\n",
       "      <td>ANTQ</td>\n",
       "    </tr>\n",
       "    <tr>\n",
       "      <th>1</th>\n",
       "      <td>1003</td>\n",
       "      <td>NaN</td>\n",
       "      <td>NaN</td>\n",
       "      <td>NaN</td>\n",
       "      <td>2004/07/31</td>\n",
       "      <td>25.0</td>\n",
       "      <td>449.0</td>\n",
       "      <td>ANTQ</td>\n",
       "    </tr>\n",
       "    <tr>\n",
       "      <th>2</th>\n",
       "      <td>1003</td>\n",
       "      <td>NaN</td>\n",
       "      <td>NaN</td>\n",
       "      <td>NaN</td>\n",
       "      <td>2004/08/31</td>\n",
       "      <td>25.0</td>\n",
       "      <td>449.0</td>\n",
       "      <td>ANTQ</td>\n",
       "    </tr>\n",
       "    <tr>\n",
       "      <th>3</th>\n",
       "      <td>1003</td>\n",
       "      <td>NaN</td>\n",
       "      <td>NaN</td>\n",
       "      <td>NaN</td>\n",
       "      <td>2004/09/30</td>\n",
       "      <td>25.0</td>\n",
       "      <td>449.0</td>\n",
       "      <td>ANTQ</td>\n",
       "    </tr>\n",
       "    <tr>\n",
       "      <th>4</th>\n",
       "      <td>1003</td>\n",
       "      <td>NaN</td>\n",
       "      <td>NaN</td>\n",
       "      <td>NaN</td>\n",
       "      <td>2004/10/31</td>\n",
       "      <td>25.0</td>\n",
       "      <td>449.0</td>\n",
       "      <td>ANTQ</td>\n",
       "    </tr>\n",
       "  </tbody>\n",
       "</table>\n",
       "</div>"
      ],
      "text/plain": [
       "   gvkey splticrm spsdrm spsticrm    datadate  gsector  spcindcd   tic\n",
       "0   1003      NaN    NaN      NaN  2004/06/30     25.0     449.0  ANTQ\n",
       "1   1003      NaN    NaN      NaN  2004/07/31     25.0     449.0  ANTQ\n",
       "2   1003      NaN    NaN      NaN  2004/08/31     25.0     449.0  ANTQ\n",
       "3   1003      NaN    NaN      NaN  2004/09/30     25.0     449.0  ANTQ\n",
       "4   1003      NaN    NaN      NaN  2004/10/31     25.0     449.0  ANTQ"
      ]
     },
     "execution_count": 3,
     "metadata": {},
     "output_type": "execute_result"
    }
   ],
   "source": [
    "ratings.head()"
   ]
  },
  {
   "cell_type": "code",
   "execution_count": 4,
   "id": "1996bf49",
   "metadata": {},
   "outputs": [
    {
     "data": {
      "text/plain": [
       "2174476"
      ]
     },
     "execution_count": 4,
     "metadata": {},
     "output_type": "execute_result"
    }
   ],
   "source": [
    "ratings.splticrm.isna().sum()"
   ]
  },
  {
   "cell_type": "code",
   "execution_count": 5,
   "id": "78cd9d9e",
   "metadata": {},
   "outputs": [
    {
     "data": {
      "text/plain": [
       "2804574"
      ]
     },
     "execution_count": 5,
     "metadata": {},
     "output_type": "execute_result"
    }
   ],
   "source": [
    "len(ratings)"
   ]
  },
  {
   "cell_type": "code",
   "execution_count": 6,
   "id": "0fb8166f",
   "metadata": {},
   "outputs": [],
   "source": [
    "ratings['year'] = ratings.datadate.apply(lambda x : int(x[:4]))"
   ]
  },
  {
   "cell_type": "code",
   "execution_count": 7,
   "id": "21d96304",
   "metadata": {},
   "outputs": [],
   "source": [
    "def junk_or_inv(x):\n",
    "    rating_list = ['AAA', 'AA+', 'AA', 'AA-', 'A+', 'A', 'A-', 'BBB+', 'BBB']\n",
    "    lower_ratings = ['BBB-', 'BB+', 'BB', 'BB-']\n",
    "    \n",
    "    if x in rating_list:\n",
    "        return 1\n",
    "    if x in lower_ratings:\n",
    "        return 0\n",
    "    else:\n",
    "        return np.nan"
   ]
  },
  {
   "cell_type": "code",
   "execution_count": null,
   "id": "68617085",
   "metadata": {},
   "outputs": [],
   "source": []
  },
  {
   "cell_type": "code",
   "execution_count": 8,
   "id": "e6cf8ff1",
   "metadata": {},
   "outputs": [],
   "source": [
    "ratings['bondgrade'] = ratings.splticrm.apply(junk_or_inv)"
   ]
  },
  {
   "cell_type": "code",
   "execution_count": 9,
   "id": "b61ce832",
   "metadata": {},
   "outputs": [],
   "source": [
    "comp_type = ratings.groupby('gvkey')['bondgrade'].mean()"
   ]
  },
  {
   "cell_type": "code",
   "execution_count": 10,
   "id": "b1d2524c",
   "metadata": {},
   "outputs": [],
   "source": [
    "#comp_type[comp_type > 0].dropna().sort_values().to_csv('gvkey_scraping_data.csv')"
   ]
  },
  {
   "cell_type": "code",
   "execution_count": 11,
   "id": "a8aa2677",
   "metadata": {},
   "outputs": [
    {
     "data": {
      "text/plain": [
       "gvkey\n",
       "1003           NaN\n",
       "1004      0.349693\n",
       "1009           NaN\n",
       "1010           NaN\n",
       "1011           NaN\n",
       "            ...   \n",
       "306398         NaN\n",
       "308992         NaN\n",
       "311524         NaN\n",
       "311798         NaN\n",
       "316056    0.000000\n",
       "Name: bondgrade, Length: 25022, dtype: float64"
      ]
     },
     "execution_count": 11,
     "metadata": {},
     "output_type": "execute_result"
    }
   ],
   "source": [
    "comp_type"
   ]
  },
  {
   "cell_type": "code",
   "execution_count": 12,
   "id": "c9d3b95b",
   "metadata": {},
   "outputs": [
    {
     "data": {
      "text/html": [
       "<div>\n",
       "<style scoped>\n",
       "    .dataframe tbody tr th:only-of-type {\n",
       "        vertical-align: middle;\n",
       "    }\n",
       "\n",
       "    .dataframe tbody tr th {\n",
       "        vertical-align: top;\n",
       "    }\n",
       "\n",
       "    .dataframe thead th {\n",
       "        text-align: right;\n",
       "    }\n",
       "</style>\n",
       "<table border=\"1\" class=\"dataframe\">\n",
       "  <thead>\n",
       "    <tr style=\"text-align: right;\">\n",
       "      <th></th>\n",
       "      <th>gvkey</th>\n",
       "      <th>bondgrade</th>\n",
       "    </tr>\n",
       "  </thead>\n",
       "  <tbody>\n",
       "    <tr>\n",
       "      <th>0</th>\n",
       "      <td>1003</td>\n",
       "      <td>NaN</td>\n",
       "    </tr>\n",
       "    <tr>\n",
       "      <th>1</th>\n",
       "      <td>1004</td>\n",
       "      <td>0.349693</td>\n",
       "    </tr>\n",
       "    <tr>\n",
       "      <th>2</th>\n",
       "      <td>1009</td>\n",
       "      <td>NaN</td>\n",
       "    </tr>\n",
       "    <tr>\n",
       "      <th>3</th>\n",
       "      <td>1010</td>\n",
       "      <td>NaN</td>\n",
       "    </tr>\n",
       "    <tr>\n",
       "      <th>4</th>\n",
       "      <td>1011</td>\n",
       "      <td>NaN</td>\n",
       "    </tr>\n",
       "    <tr>\n",
       "      <th>...</th>\n",
       "      <td>...</td>\n",
       "      <td>...</td>\n",
       "    </tr>\n",
       "    <tr>\n",
       "      <th>25017</th>\n",
       "      <td>306398</td>\n",
       "      <td>NaN</td>\n",
       "    </tr>\n",
       "    <tr>\n",
       "      <th>25018</th>\n",
       "      <td>308992</td>\n",
       "      <td>NaN</td>\n",
       "    </tr>\n",
       "    <tr>\n",
       "      <th>25019</th>\n",
       "      <td>311524</td>\n",
       "      <td>NaN</td>\n",
       "    </tr>\n",
       "    <tr>\n",
       "      <th>25020</th>\n",
       "      <td>311798</td>\n",
       "      <td>NaN</td>\n",
       "    </tr>\n",
       "    <tr>\n",
       "      <th>25021</th>\n",
       "      <td>316056</td>\n",
       "      <td>0.000000</td>\n",
       "    </tr>\n",
       "  </tbody>\n",
       "</table>\n",
       "<p>25022 rows × 2 columns</p>\n",
       "</div>"
      ],
      "text/plain": [
       "        gvkey  bondgrade\n",
       "0        1003        NaN\n",
       "1        1004   0.349693\n",
       "2        1009        NaN\n",
       "3        1010        NaN\n",
       "4        1011        NaN\n",
       "...       ...        ...\n",
       "25017  306398        NaN\n",
       "25018  308992        NaN\n",
       "25019  311524        NaN\n",
       "25020  311798        NaN\n",
       "25021  316056   0.000000\n",
       "\n",
       "[25022 rows x 2 columns]"
      ]
     },
     "execution_count": 12,
     "metadata": {},
     "output_type": "execute_result"
    }
   ],
   "source": [
    "comp_type.reset_index()"
   ]
  },
  {
   "cell_type": "code",
   "execution_count": 13,
   "id": "23427db0",
   "metadata": {},
   "outputs": [],
   "source": [
    "comp_type_year = ratings.groupby(['gvkey', 'year'])['bondgrade'].mean()"
   ]
  },
  {
   "cell_type": "code",
   "execution_count": 14,
   "id": "119ec8a0",
   "metadata": {},
   "outputs": [
    {
     "data": {
      "text/plain": [
       "gvkey   year\n",
       "1003    2004    NaN\n",
       "        2005    NaN\n",
       "        2006    NaN\n",
       "        2007    NaN\n",
       "        2008    NaN\n",
       "               ... \n",
       "316056  2013    0.0\n",
       "        2014    0.0\n",
       "        2015    0.0\n",
       "        2016    0.0\n",
       "        2017    0.0\n",
       "Name: bondgrade, Length: 258898, dtype: float64"
      ]
     },
     "execution_count": 14,
     "metadata": {},
     "output_type": "execute_result"
    }
   ],
   "source": [
    "comp_type_year"
   ]
  },
  {
   "cell_type": "code",
   "execution_count": 15,
   "id": "97e186cb",
   "metadata": {},
   "outputs": [
    {
     "data": {
      "text/html": [
       "<div>\n",
       "<style scoped>\n",
       "    .dataframe tbody tr th:only-of-type {\n",
       "        vertical-align: middle;\n",
       "    }\n",
       "\n",
       "    .dataframe tbody tr th {\n",
       "        vertical-align: top;\n",
       "    }\n",
       "\n",
       "    .dataframe thead th {\n",
       "        text-align: right;\n",
       "    }\n",
       "</style>\n",
       "<table border=\"1\" class=\"dataframe\">\n",
       "  <thead>\n",
       "    <tr style=\"text-align: right;\">\n",
       "      <th></th>\n",
       "      <th>gvkey</th>\n",
       "      <th>year</th>\n",
       "      <th>bondgrade</th>\n",
       "    </tr>\n",
       "  </thead>\n",
       "  <tbody>\n",
       "    <tr>\n",
       "      <th>0</th>\n",
       "      <td>1003</td>\n",
       "      <td>2004</td>\n",
       "      <td>NaN</td>\n",
       "    </tr>\n",
       "    <tr>\n",
       "      <th>1</th>\n",
       "      <td>1003</td>\n",
       "      <td>2005</td>\n",
       "      <td>NaN</td>\n",
       "    </tr>\n",
       "    <tr>\n",
       "      <th>2</th>\n",
       "      <td>1003</td>\n",
       "      <td>2006</td>\n",
       "      <td>NaN</td>\n",
       "    </tr>\n",
       "    <tr>\n",
       "      <th>3</th>\n",
       "      <td>1003</td>\n",
       "      <td>2007</td>\n",
       "      <td>NaN</td>\n",
       "    </tr>\n",
       "    <tr>\n",
       "      <th>4</th>\n",
       "      <td>1003</td>\n",
       "      <td>2008</td>\n",
       "      <td>NaN</td>\n",
       "    </tr>\n",
       "    <tr>\n",
       "      <th>...</th>\n",
       "      <td>...</td>\n",
       "      <td>...</td>\n",
       "      <td>...</td>\n",
       "    </tr>\n",
       "    <tr>\n",
       "      <th>258893</th>\n",
       "      <td>316056</td>\n",
       "      <td>2013</td>\n",
       "      <td>0.0</td>\n",
       "    </tr>\n",
       "    <tr>\n",
       "      <th>258894</th>\n",
       "      <td>316056</td>\n",
       "      <td>2014</td>\n",
       "      <td>0.0</td>\n",
       "    </tr>\n",
       "    <tr>\n",
       "      <th>258895</th>\n",
       "      <td>316056</td>\n",
       "      <td>2015</td>\n",
       "      <td>0.0</td>\n",
       "    </tr>\n",
       "    <tr>\n",
       "      <th>258896</th>\n",
       "      <td>316056</td>\n",
       "      <td>2016</td>\n",
       "      <td>0.0</td>\n",
       "    </tr>\n",
       "    <tr>\n",
       "      <th>258897</th>\n",
       "      <td>316056</td>\n",
       "      <td>2017</td>\n",
       "      <td>0.0</td>\n",
       "    </tr>\n",
       "  </tbody>\n",
       "</table>\n",
       "<p>258898 rows × 3 columns</p>\n",
       "</div>"
      ],
      "text/plain": [
       "         gvkey  year  bondgrade\n",
       "0         1003  2004        NaN\n",
       "1         1003  2005        NaN\n",
       "2         1003  2006        NaN\n",
       "3         1003  2007        NaN\n",
       "4         1003  2008        NaN\n",
       "...        ...   ...        ...\n",
       "258893  316056  2013        0.0\n",
       "258894  316056  2014        0.0\n",
       "258895  316056  2015        0.0\n",
       "258896  316056  2016        0.0\n",
       "258897  316056  2017        0.0\n",
       "\n",
       "[258898 rows x 3 columns]"
      ]
     },
     "execution_count": 15,
     "metadata": {},
     "output_type": "execute_result"
    }
   ],
   "source": [
    "comp_type_year.reset_index()"
   ]
  },
  {
   "cell_type": "code",
   "execution_count": 16,
   "id": "d27d1e94",
   "metadata": {},
   "outputs": [],
   "source": [
    "ratings_new = pd.merge(ratings[['gvkey', 'year', 'datadate', 'gsector', 'splticrm']], comp_type_year, on = ['gvkey', 'year'])"
   ]
  },
  {
   "cell_type": "code",
   "execution_count": 17,
   "id": "3af12dea",
   "metadata": {},
   "outputs": [
    {
     "data": {
      "text/html": [
       "<div>\n",
       "<style scoped>\n",
       "    .dataframe tbody tr th:only-of-type {\n",
       "        vertical-align: middle;\n",
       "    }\n",
       "\n",
       "    .dataframe tbody tr th {\n",
       "        vertical-align: top;\n",
       "    }\n",
       "\n",
       "    .dataframe thead th {\n",
       "        text-align: right;\n",
       "    }\n",
       "</style>\n",
       "<table border=\"1\" class=\"dataframe\">\n",
       "  <thead>\n",
       "    <tr style=\"text-align: right;\">\n",
       "      <th></th>\n",
       "      <th>gvkey</th>\n",
       "      <th>year</th>\n",
       "      <th>datadate</th>\n",
       "      <th>gsector</th>\n",
       "      <th>splticrm</th>\n",
       "      <th>bondgrade</th>\n",
       "    </tr>\n",
       "  </thead>\n",
       "  <tbody>\n",
       "    <tr>\n",
       "      <th>0</th>\n",
       "      <td>1003</td>\n",
       "      <td>2004</td>\n",
       "      <td>2004/06/30</td>\n",
       "      <td>25.0</td>\n",
       "      <td>NaN</td>\n",
       "      <td>NaN</td>\n",
       "    </tr>\n",
       "    <tr>\n",
       "      <th>1</th>\n",
       "      <td>1003</td>\n",
       "      <td>2004</td>\n",
       "      <td>2004/07/31</td>\n",
       "      <td>25.0</td>\n",
       "      <td>NaN</td>\n",
       "      <td>NaN</td>\n",
       "    </tr>\n",
       "    <tr>\n",
       "      <th>2</th>\n",
       "      <td>1003</td>\n",
       "      <td>2004</td>\n",
       "      <td>2004/08/31</td>\n",
       "      <td>25.0</td>\n",
       "      <td>NaN</td>\n",
       "      <td>NaN</td>\n",
       "    </tr>\n",
       "    <tr>\n",
       "      <th>3</th>\n",
       "      <td>1003</td>\n",
       "      <td>2004</td>\n",
       "      <td>2004/09/30</td>\n",
       "      <td>25.0</td>\n",
       "      <td>NaN</td>\n",
       "      <td>NaN</td>\n",
       "    </tr>\n",
       "    <tr>\n",
       "      <th>4</th>\n",
       "      <td>1003</td>\n",
       "      <td>2004</td>\n",
       "      <td>2004/10/31</td>\n",
       "      <td>25.0</td>\n",
       "      <td>NaN</td>\n",
       "      <td>NaN</td>\n",
       "    </tr>\n",
       "    <tr>\n",
       "      <th>...</th>\n",
       "      <td>...</td>\n",
       "      <td>...</td>\n",
       "      <td>...</td>\n",
       "      <td>...</td>\n",
       "      <td>...</td>\n",
       "      <td>...</td>\n",
       "    </tr>\n",
       "    <tr>\n",
       "      <th>2804569</th>\n",
       "      <td>316056</td>\n",
       "      <td>2016</td>\n",
       "      <td>2016/10/31</td>\n",
       "      <td>20.0</td>\n",
       "      <td>BBB-</td>\n",
       "      <td>0.0</td>\n",
       "    </tr>\n",
       "    <tr>\n",
       "      <th>2804570</th>\n",
       "      <td>316056</td>\n",
       "      <td>2016</td>\n",
       "      <td>2016/11/30</td>\n",
       "      <td>20.0</td>\n",
       "      <td>BBB-</td>\n",
       "      <td>0.0</td>\n",
       "    </tr>\n",
       "    <tr>\n",
       "      <th>2804571</th>\n",
       "      <td>316056</td>\n",
       "      <td>2016</td>\n",
       "      <td>2016/12/31</td>\n",
       "      <td>20.0</td>\n",
       "      <td>BBB-</td>\n",
       "      <td>0.0</td>\n",
       "    </tr>\n",
       "    <tr>\n",
       "      <th>2804572</th>\n",
       "      <td>316056</td>\n",
       "      <td>2017</td>\n",
       "      <td>2017/01/31</td>\n",
       "      <td>20.0</td>\n",
       "      <td>BBB-</td>\n",
       "      <td>0.0</td>\n",
       "    </tr>\n",
       "    <tr>\n",
       "      <th>2804573</th>\n",
       "      <td>316056</td>\n",
       "      <td>2017</td>\n",
       "      <td>2017/02/28</td>\n",
       "      <td>20.0</td>\n",
       "      <td>BBB-</td>\n",
       "      <td>0.0</td>\n",
       "    </tr>\n",
       "  </tbody>\n",
       "</table>\n",
       "<p>2804574 rows × 6 columns</p>\n",
       "</div>"
      ],
      "text/plain": [
       "          gvkey  year    datadate  gsector splticrm  bondgrade\n",
       "0          1003  2004  2004/06/30     25.0      NaN        NaN\n",
       "1          1003  2004  2004/07/31     25.0      NaN        NaN\n",
       "2          1003  2004  2004/08/31     25.0      NaN        NaN\n",
       "3          1003  2004  2004/09/30     25.0      NaN        NaN\n",
       "4          1003  2004  2004/10/31     25.0      NaN        NaN\n",
       "...         ...   ...         ...      ...      ...        ...\n",
       "2804569  316056  2016  2016/10/31     20.0     BBB-        0.0\n",
       "2804570  316056  2016  2016/11/30     20.0     BBB-        0.0\n",
       "2804571  316056  2016  2016/12/31     20.0     BBB-        0.0\n",
       "2804572  316056  2017  2017/01/31     20.0     BBB-        0.0\n",
       "2804573  316056  2017  2017/02/28     20.0     BBB-        0.0\n",
       "\n",
       "[2804574 rows x 6 columns]"
      ]
     },
     "execution_count": 17,
     "metadata": {},
     "output_type": "execute_result"
    }
   ],
   "source": [
    "ratings_new"
   ]
  },
  {
   "cell_type": "code",
   "execution_count": 18,
   "id": "41e7110e",
   "metadata": {},
   "outputs": [],
   "source": [
    "ratings_new = ratings_new.dropna(subset = ['bondgrade'])\n",
    "ratings_new = ratings_new[ratings_new['bondgrade'] != 0]"
   ]
  },
  {
   "cell_type": "code",
   "execution_count": 19,
   "id": "55a40eaf",
   "metadata": {},
   "outputs": [
    {
     "data": {
      "text/html": [
       "<div>\n",
       "<style scoped>\n",
       "    .dataframe tbody tr th:only-of-type {\n",
       "        vertical-align: middle;\n",
       "    }\n",
       "\n",
       "    .dataframe tbody tr th {\n",
       "        vertical-align: top;\n",
       "    }\n",
       "\n",
       "    .dataframe thead th {\n",
       "        text-align: right;\n",
       "    }\n",
       "</style>\n",
       "<table border=\"1\" class=\"dataframe\">\n",
       "  <thead>\n",
       "    <tr style=\"text-align: right;\">\n",
       "      <th></th>\n",
       "      <th>gvkey</th>\n",
       "      <th>year</th>\n",
       "      <th>datadate</th>\n",
       "      <th>gsector</th>\n",
       "      <th>splticrm</th>\n",
       "      <th>bondgrade</th>\n",
       "    </tr>\n",
       "  </thead>\n",
       "  <tbody>\n",
       "    <tr>\n",
       "      <th>102</th>\n",
       "      <td>1004</td>\n",
       "      <td>1990</td>\n",
       "      <td>1990/01/31</td>\n",
       "      <td>20.0</td>\n",
       "      <td>BBB</td>\n",
       "      <td>1.0</td>\n",
       "    </tr>\n",
       "    <tr>\n",
       "      <th>103</th>\n",
       "      <td>1004</td>\n",
       "      <td>1990</td>\n",
       "      <td>1990/02/28</td>\n",
       "      <td>20.0</td>\n",
       "      <td>BBB</td>\n",
       "      <td>1.0</td>\n",
       "    </tr>\n",
       "    <tr>\n",
       "      <th>104</th>\n",
       "      <td>1004</td>\n",
       "      <td>1990</td>\n",
       "      <td>1990/03/31</td>\n",
       "      <td>20.0</td>\n",
       "      <td>BBB</td>\n",
       "      <td>1.0</td>\n",
       "    </tr>\n",
       "    <tr>\n",
       "      <th>105</th>\n",
       "      <td>1004</td>\n",
       "      <td>1990</td>\n",
       "      <td>1990/04/30</td>\n",
       "      <td>20.0</td>\n",
       "      <td>BBB</td>\n",
       "      <td>1.0</td>\n",
       "    </tr>\n",
       "    <tr>\n",
       "      <th>106</th>\n",
       "      <td>1004</td>\n",
       "      <td>1990</td>\n",
       "      <td>1990/05/31</td>\n",
       "      <td>20.0</td>\n",
       "      <td>BBB</td>\n",
       "      <td>1.0</td>\n",
       "    </tr>\n",
       "    <tr>\n",
       "      <th>...</th>\n",
       "      <td>...</td>\n",
       "      <td>...</td>\n",
       "      <td>...</td>\n",
       "      <td>...</td>\n",
       "      <td>...</td>\n",
       "      <td>...</td>\n",
       "    </tr>\n",
       "    <tr>\n",
       "      <th>2803847</th>\n",
       "      <td>287882</td>\n",
       "      <td>2016</td>\n",
       "      <td>2016/10/31</td>\n",
       "      <td>10.0</td>\n",
       "      <td>BBB</td>\n",
       "      <td>1.0</td>\n",
       "    </tr>\n",
       "    <tr>\n",
       "      <th>2803848</th>\n",
       "      <td>287882</td>\n",
       "      <td>2016</td>\n",
       "      <td>2016/11/30</td>\n",
       "      <td>10.0</td>\n",
       "      <td>BBB</td>\n",
       "      <td>1.0</td>\n",
       "    </tr>\n",
       "    <tr>\n",
       "      <th>2803849</th>\n",
       "      <td>287882</td>\n",
       "      <td>2016</td>\n",
       "      <td>2016/12/31</td>\n",
       "      <td>10.0</td>\n",
       "      <td>BBB</td>\n",
       "      <td>1.0</td>\n",
       "    </tr>\n",
       "    <tr>\n",
       "      <th>2803850</th>\n",
       "      <td>287882</td>\n",
       "      <td>2017</td>\n",
       "      <td>2017/01/31</td>\n",
       "      <td>10.0</td>\n",
       "      <td>BBB</td>\n",
       "      <td>1.0</td>\n",
       "    </tr>\n",
       "    <tr>\n",
       "      <th>2803851</th>\n",
       "      <td>287882</td>\n",
       "      <td>2017</td>\n",
       "      <td>2017/02/28</td>\n",
       "      <td>10.0</td>\n",
       "      <td>BBB</td>\n",
       "      <td>1.0</td>\n",
       "    </tr>\n",
       "  </tbody>\n",
       "</table>\n",
       "<p>316663 rows × 6 columns</p>\n",
       "</div>"
      ],
      "text/plain": [
       "          gvkey  year    datadate  gsector splticrm  bondgrade\n",
       "102        1004  1990  1990/01/31     20.0      BBB        1.0\n",
       "103        1004  1990  1990/02/28     20.0      BBB        1.0\n",
       "104        1004  1990  1990/03/31     20.0      BBB        1.0\n",
       "105        1004  1990  1990/04/30     20.0      BBB        1.0\n",
       "106        1004  1990  1990/05/31     20.0      BBB        1.0\n",
       "...         ...   ...         ...      ...      ...        ...\n",
       "2803847  287882  2016  2016/10/31     10.0      BBB        1.0\n",
       "2803848  287882  2016  2016/11/30     10.0      BBB        1.0\n",
       "2803849  287882  2016  2016/12/31     10.0      BBB        1.0\n",
       "2803850  287882  2017  2017/01/31     10.0      BBB        1.0\n",
       "2803851  287882  2017  2017/02/28     10.0      BBB        1.0\n",
       "\n",
       "[316663 rows x 6 columns]"
      ]
     },
     "execution_count": 19,
     "metadata": {},
     "output_type": "execute_result"
    }
   ],
   "source": [
    "ratings_new"
   ]
  },
  {
   "cell_type": "code",
   "execution_count": 20,
   "id": "363718ee",
   "metadata": {},
   "outputs": [],
   "source": [
    "ratings_new['bondgradeshift'] = ratings_new.bondgrade.shift(-1)\n",
    "ratings_new['gvkeyshift'] = ratings_new.gvkey.shift(-1)"
   ]
  },
  {
   "cell_type": "code",
   "execution_count": 21,
   "id": "188e8d1f",
   "metadata": {},
   "outputs": [],
   "source": [
    "def fallen_angel(x):\n",
    "    if (x.bondgrade == 1) and (x.bondgradeshift < 1) and (x.gvkey == x.gvkeyshift):\n",
    "        return True\n",
    "    else:\n",
    "        return False"
   ]
  },
  {
   "cell_type": "code",
   "execution_count": 22,
   "id": "8859a232",
   "metadata": {},
   "outputs": [],
   "source": [
    "ratings_new['fallen_angel'] = ratings_new.apply(fallen_angel, axis = 1)"
   ]
  },
  {
   "cell_type": "code",
   "execution_count": 23,
   "id": "472fe61d",
   "metadata": {},
   "outputs": [],
   "source": [
    "ratings_new = ratings_new.drop(columns = ['bondgradeshift', 'gvkeyshift'])"
   ]
  },
  {
   "cell_type": "code",
   "execution_count": 24,
   "id": "08939cc7",
   "metadata": {},
   "outputs": [
    {
     "data": {
      "text/html": [
       "<div>\n",
       "<style scoped>\n",
       "    .dataframe tbody tr th:only-of-type {\n",
       "        vertical-align: middle;\n",
       "    }\n",
       "\n",
       "    .dataframe tbody tr th {\n",
       "        vertical-align: top;\n",
       "    }\n",
       "\n",
       "    .dataframe thead th {\n",
       "        text-align: right;\n",
       "    }\n",
       "</style>\n",
       "<table border=\"1\" class=\"dataframe\">\n",
       "  <thead>\n",
       "    <tr style=\"text-align: right;\">\n",
       "      <th></th>\n",
       "      <th>gvkey</th>\n",
       "      <th>year</th>\n",
       "      <th>datadate</th>\n",
       "      <th>gsector</th>\n",
       "      <th>splticrm</th>\n",
       "      <th>bondgrade</th>\n",
       "      <th>fallen_angel</th>\n",
       "    </tr>\n",
       "  </thead>\n",
       "  <tbody>\n",
       "    <tr>\n",
       "      <th>102</th>\n",
       "      <td>1004</td>\n",
       "      <td>1990</td>\n",
       "      <td>1990/01/31</td>\n",
       "      <td>20.0</td>\n",
       "      <td>BBB</td>\n",
       "      <td>1.0</td>\n",
       "      <td>False</td>\n",
       "    </tr>\n",
       "    <tr>\n",
       "      <th>103</th>\n",
       "      <td>1004</td>\n",
       "      <td>1990</td>\n",
       "      <td>1990/02/28</td>\n",
       "      <td>20.0</td>\n",
       "      <td>BBB</td>\n",
       "      <td>1.0</td>\n",
       "      <td>False</td>\n",
       "    </tr>\n",
       "    <tr>\n",
       "      <th>104</th>\n",
       "      <td>1004</td>\n",
       "      <td>1990</td>\n",
       "      <td>1990/03/31</td>\n",
       "      <td>20.0</td>\n",
       "      <td>BBB</td>\n",
       "      <td>1.0</td>\n",
       "      <td>False</td>\n",
       "    </tr>\n",
       "    <tr>\n",
       "      <th>105</th>\n",
       "      <td>1004</td>\n",
       "      <td>1990</td>\n",
       "      <td>1990/04/30</td>\n",
       "      <td>20.0</td>\n",
       "      <td>BBB</td>\n",
       "      <td>1.0</td>\n",
       "      <td>False</td>\n",
       "    </tr>\n",
       "    <tr>\n",
       "      <th>106</th>\n",
       "      <td>1004</td>\n",
       "      <td>1990</td>\n",
       "      <td>1990/05/31</td>\n",
       "      <td>20.0</td>\n",
       "      <td>BBB</td>\n",
       "      <td>1.0</td>\n",
       "      <td>False</td>\n",
       "    </tr>\n",
       "    <tr>\n",
       "      <th>...</th>\n",
       "      <td>...</td>\n",
       "      <td>...</td>\n",
       "      <td>...</td>\n",
       "      <td>...</td>\n",
       "      <td>...</td>\n",
       "      <td>...</td>\n",
       "      <td>...</td>\n",
       "    </tr>\n",
       "    <tr>\n",
       "      <th>2803847</th>\n",
       "      <td>287882</td>\n",
       "      <td>2016</td>\n",
       "      <td>2016/10/31</td>\n",
       "      <td>10.0</td>\n",
       "      <td>BBB</td>\n",
       "      <td>1.0</td>\n",
       "      <td>False</td>\n",
       "    </tr>\n",
       "    <tr>\n",
       "      <th>2803848</th>\n",
       "      <td>287882</td>\n",
       "      <td>2016</td>\n",
       "      <td>2016/11/30</td>\n",
       "      <td>10.0</td>\n",
       "      <td>BBB</td>\n",
       "      <td>1.0</td>\n",
       "      <td>False</td>\n",
       "    </tr>\n",
       "    <tr>\n",
       "      <th>2803849</th>\n",
       "      <td>287882</td>\n",
       "      <td>2016</td>\n",
       "      <td>2016/12/31</td>\n",
       "      <td>10.0</td>\n",
       "      <td>BBB</td>\n",
       "      <td>1.0</td>\n",
       "      <td>False</td>\n",
       "    </tr>\n",
       "    <tr>\n",
       "      <th>2803850</th>\n",
       "      <td>287882</td>\n",
       "      <td>2017</td>\n",
       "      <td>2017/01/31</td>\n",
       "      <td>10.0</td>\n",
       "      <td>BBB</td>\n",
       "      <td>1.0</td>\n",
       "      <td>False</td>\n",
       "    </tr>\n",
       "    <tr>\n",
       "      <th>2803851</th>\n",
       "      <td>287882</td>\n",
       "      <td>2017</td>\n",
       "      <td>2017/02/28</td>\n",
       "      <td>10.0</td>\n",
       "      <td>BBB</td>\n",
       "      <td>1.0</td>\n",
       "      <td>False</td>\n",
       "    </tr>\n",
       "  </tbody>\n",
       "</table>\n",
       "<p>316663 rows × 7 columns</p>\n",
       "</div>"
      ],
      "text/plain": [
       "          gvkey  year    datadate  gsector splticrm  bondgrade  fallen_angel\n",
       "102        1004  1990  1990/01/31     20.0      BBB        1.0         False\n",
       "103        1004  1990  1990/02/28     20.0      BBB        1.0         False\n",
       "104        1004  1990  1990/03/31     20.0      BBB        1.0         False\n",
       "105        1004  1990  1990/04/30     20.0      BBB        1.0         False\n",
       "106        1004  1990  1990/05/31     20.0      BBB        1.0         False\n",
       "...         ...   ...         ...      ...      ...        ...           ...\n",
       "2803847  287882  2016  2016/10/31     10.0      BBB        1.0         False\n",
       "2803848  287882  2016  2016/11/30     10.0      BBB        1.0         False\n",
       "2803849  287882  2016  2016/12/31     10.0      BBB        1.0         False\n",
       "2803850  287882  2017  2017/01/31     10.0      BBB        1.0         False\n",
       "2803851  287882  2017  2017/02/28     10.0      BBB        1.0         False\n",
       "\n",
       "[316663 rows x 7 columns]"
      ]
     },
     "execution_count": 24,
     "metadata": {},
     "output_type": "execute_result"
    }
   ],
   "source": [
    "ratings_new"
   ]
  },
  {
   "cell_type": "code",
   "execution_count": 25,
   "id": "d35b5008",
   "metadata": {},
   "outputs": [
    {
     "data": {
      "text/plain": [
       "False    315934\n",
       "True        729\n",
       "Name: fallen_angel, dtype: int64"
      ]
     },
     "execution_count": 25,
     "metadata": {},
     "output_type": "execute_result"
    }
   ],
   "source": [
    "ratings_new.fallen_angel.value_counts()"
   ]
  },
  {
   "cell_type": "code",
   "execution_count": 26,
   "id": "f3c267ca",
   "metadata": {},
   "outputs": [],
   "source": [
    "fallen_angels = ratings_new.groupby(['gvkey', 'year'])['fallen_angel'].max()"
   ]
  },
  {
   "cell_type": "code",
   "execution_count": 27,
   "id": "c3093388",
   "metadata": {},
   "outputs": [
    {
     "data": {
      "text/html": [
       "<div>\n",
       "<style scoped>\n",
       "    .dataframe tbody tr th:only-of-type {\n",
       "        vertical-align: middle;\n",
       "    }\n",
       "\n",
       "    .dataframe tbody tr th {\n",
       "        vertical-align: top;\n",
       "    }\n",
       "\n",
       "    .dataframe thead th {\n",
       "        text-align: right;\n",
       "    }\n",
       "</style>\n",
       "<table border=\"1\" class=\"dataframe\">\n",
       "  <thead>\n",
       "    <tr style=\"text-align: right;\">\n",
       "      <th></th>\n",
       "      <th>gvkey</th>\n",
       "      <th>year</th>\n",
       "      <th>fallen_angel</th>\n",
       "    </tr>\n",
       "  </thead>\n",
       "  <tbody>\n",
       "    <tr>\n",
       "      <th>0</th>\n",
       "      <td>1004</td>\n",
       "      <td>1990</td>\n",
       "      <td>False</td>\n",
       "    </tr>\n",
       "    <tr>\n",
       "      <th>1</th>\n",
       "      <td>1004</td>\n",
       "      <td>1991</td>\n",
       "      <td>False</td>\n",
       "    </tr>\n",
       "    <tr>\n",
       "      <th>2</th>\n",
       "      <td>1004</td>\n",
       "      <td>1992</td>\n",
       "      <td>False</td>\n",
       "    </tr>\n",
       "    <tr>\n",
       "      <th>3</th>\n",
       "      <td>1004</td>\n",
       "      <td>1993</td>\n",
       "      <td>False</td>\n",
       "    </tr>\n",
       "    <tr>\n",
       "      <th>4</th>\n",
       "      <td>1004</td>\n",
       "      <td>1994</td>\n",
       "      <td>True</td>\n",
       "    </tr>\n",
       "    <tr>\n",
       "      <th>...</th>\n",
       "      <td>...</td>\n",
       "      <td>...</td>\n",
       "      <td>...</td>\n",
       "    </tr>\n",
       "    <tr>\n",
       "      <th>27908</th>\n",
       "      <td>287882</td>\n",
       "      <td>2013</td>\n",
       "      <td>False</td>\n",
       "    </tr>\n",
       "    <tr>\n",
       "      <th>27909</th>\n",
       "      <td>287882</td>\n",
       "      <td>2014</td>\n",
       "      <td>False</td>\n",
       "    </tr>\n",
       "    <tr>\n",
       "      <th>27910</th>\n",
       "      <td>287882</td>\n",
       "      <td>2015</td>\n",
       "      <td>False</td>\n",
       "    </tr>\n",
       "    <tr>\n",
       "      <th>27911</th>\n",
       "      <td>287882</td>\n",
       "      <td>2016</td>\n",
       "      <td>False</td>\n",
       "    </tr>\n",
       "    <tr>\n",
       "      <th>27912</th>\n",
       "      <td>287882</td>\n",
       "      <td>2017</td>\n",
       "      <td>False</td>\n",
       "    </tr>\n",
       "  </tbody>\n",
       "</table>\n",
       "<p>27913 rows × 3 columns</p>\n",
       "</div>"
      ],
      "text/plain": [
       "        gvkey  year  fallen_angel\n",
       "0        1004  1990         False\n",
       "1        1004  1991         False\n",
       "2        1004  1992         False\n",
       "3        1004  1993         False\n",
       "4        1004  1994          True\n",
       "...       ...   ...           ...\n",
       "27908  287882  2013         False\n",
       "27909  287882  2014         False\n",
       "27910  287882  2015         False\n",
       "27911  287882  2016         False\n",
       "27912  287882  2017         False\n",
       "\n",
       "[27913 rows x 3 columns]"
      ]
     },
     "execution_count": 27,
     "metadata": {},
     "output_type": "execute_result"
    }
   ],
   "source": [
    "fallen_angels = fallen_angels.reset_index()\n",
    "fallen_angels"
   ]
  },
  {
   "cell_type": "code",
   "execution_count": 28,
   "id": "5c86507c",
   "metadata": {},
   "outputs": [],
   "source": [
    "data = pd.read_csv('Assignment1Data6.csv')"
   ]
  },
  {
   "cell_type": "code",
   "execution_count": 29,
   "id": "bbe5e8d3",
   "metadata": {},
   "outputs": [
    {
     "data": {
      "text/html": [
       "<div>\n",
       "<style scoped>\n",
       "    .dataframe tbody tr th:only-of-type {\n",
       "        vertical-align: middle;\n",
       "    }\n",
       "\n",
       "    .dataframe tbody tr th {\n",
       "        vertical-align: top;\n",
       "    }\n",
       "\n",
       "    .dataframe thead th {\n",
       "        text-align: right;\n",
       "    }\n",
       "</style>\n",
       "<table border=\"1\" class=\"dataframe\">\n",
       "  <thead>\n",
       "    <tr style=\"text-align: right;\">\n",
       "      <th></th>\n",
       "      <th>gvkey</th>\n",
       "      <th>datadate</th>\n",
       "      <th>fyear</th>\n",
       "      <th>indfmt</th>\n",
       "      <th>consol</th>\n",
       "      <th>popsrc</th>\n",
       "      <th>datafmt</th>\n",
       "      <th>tic</th>\n",
       "      <th>ajex</th>\n",
       "      <th>curcd</th>\n",
       "      <th>...</th>\n",
       "      <th>re</th>\n",
       "      <th>revt</th>\n",
       "      <th>wcap</th>\n",
       "      <th>xacc</th>\n",
       "      <th>xad</th>\n",
       "      <th>xrd</th>\n",
       "      <th>exchg</th>\n",
       "      <th>costat</th>\n",
       "      <th>prcc_f</th>\n",
       "      <th>ggroup</th>\n",
       "    </tr>\n",
       "  </thead>\n",
       "  <tbody>\n",
       "    <tr>\n",
       "      <th>0</th>\n",
       "      <td>1000</td>\n",
       "      <td>1969/12/31</td>\n",
       "      <td>1969.0</td>\n",
       "      <td>INDL</td>\n",
       "      <td>C</td>\n",
       "      <td>D</td>\n",
       "      <td>STD</td>\n",
       "      <td>AE.2</td>\n",
       "      <td>1.0</td>\n",
       "      <td>USD</td>\n",
       "      <td>...</td>\n",
       "      <td>4.795</td>\n",
       "      <td>37.392</td>\n",
       "      <td>3.334</td>\n",
       "      <td>0.742</td>\n",
       "      <td>NaN</td>\n",
       "      <td>NaN</td>\n",
       "      <td>12.0</td>\n",
       "      <td>I</td>\n",
       "      <td>NaN</td>\n",
       "      <td>NaN</td>\n",
       "    </tr>\n",
       "    <tr>\n",
       "      <th>1</th>\n",
       "      <td>1000</td>\n",
       "      <td>1970/12/31</td>\n",
       "      <td>1970.0</td>\n",
       "      <td>INDL</td>\n",
       "      <td>C</td>\n",
       "      <td>D</td>\n",
       "      <td>STD</td>\n",
       "      <td>AE.2</td>\n",
       "      <td>1.0</td>\n",
       "      <td>USD</td>\n",
       "      <td>...</td>\n",
       "      <td>5.554</td>\n",
       "      <td>45.335</td>\n",
       "      <td>1.756</td>\n",
       "      <td>0.763</td>\n",
       "      <td>NaN</td>\n",
       "      <td>NaN</td>\n",
       "      <td>12.0</td>\n",
       "      <td>I</td>\n",
       "      <td>10.000</td>\n",
       "      <td>NaN</td>\n",
       "    </tr>\n",
       "    <tr>\n",
       "      <th>2</th>\n",
       "      <td>1000</td>\n",
       "      <td>1971/12/31</td>\n",
       "      <td>1971.0</td>\n",
       "      <td>INDL</td>\n",
       "      <td>C</td>\n",
       "      <td>D</td>\n",
       "      <td>STD</td>\n",
       "      <td>AE.2</td>\n",
       "      <td>1.0</td>\n",
       "      <td>USD</td>\n",
       "      <td>...</td>\n",
       "      <td>3.080</td>\n",
       "      <td>47.033</td>\n",
       "      <td>11.181</td>\n",
       "      <td>1.195</td>\n",
       "      <td>NaN</td>\n",
       "      <td>NaN</td>\n",
       "      <td>12.0</td>\n",
       "      <td>I</td>\n",
       "      <td>5.750</td>\n",
       "      <td>NaN</td>\n",
       "    </tr>\n",
       "    <tr>\n",
       "      <th>3</th>\n",
       "      <td>1000</td>\n",
       "      <td>1972/12/31</td>\n",
       "      <td>1972.0</td>\n",
       "      <td>INDL</td>\n",
       "      <td>C</td>\n",
       "      <td>D</td>\n",
       "      <td>STD</td>\n",
       "      <td>AE.2</td>\n",
       "      <td>1.0</td>\n",
       "      <td>USD</td>\n",
       "      <td>...</td>\n",
       "      <td>2.881</td>\n",
       "      <td>34.362</td>\n",
       "      <td>7.336</td>\n",
       "      <td>1.172</td>\n",
       "      <td>0.081</td>\n",
       "      <td>NaN</td>\n",
       "      <td>12.0</td>\n",
       "      <td>I</td>\n",
       "      <td>5.125</td>\n",
       "      <td>NaN</td>\n",
       "    </tr>\n",
       "    <tr>\n",
       "      <th>4</th>\n",
       "      <td>1000</td>\n",
       "      <td>1973/12/31</td>\n",
       "      <td>1973.0</td>\n",
       "      <td>INDL</td>\n",
       "      <td>C</td>\n",
       "      <td>D</td>\n",
       "      <td>STD</td>\n",
       "      <td>AE.2</td>\n",
       "      <td>1.0</td>\n",
       "      <td>USD</td>\n",
       "      <td>...</td>\n",
       "      <td>4.744</td>\n",
       "      <td>37.750</td>\n",
       "      <td>8.327</td>\n",
       "      <td>0.826</td>\n",
       "      <td>0.222</td>\n",
       "      <td>NaN</td>\n",
       "      <td>12.0</td>\n",
       "      <td>I</td>\n",
       "      <td>1.750</td>\n",
       "      <td>NaN</td>\n",
       "    </tr>\n",
       "  </tbody>\n",
       "</table>\n",
       "<p>5 rows × 38 columns</p>\n",
       "</div>"
      ],
      "text/plain": [
       "   gvkey    datadate   fyear indfmt consol popsrc datafmt   tic  ajex curcd  \\\n",
       "0   1000  1969/12/31  1969.0   INDL      C      D     STD  AE.2   1.0   USD   \n",
       "1   1000  1970/12/31  1970.0   INDL      C      D     STD  AE.2   1.0   USD   \n",
       "2   1000  1971/12/31  1971.0   INDL      C      D     STD  AE.2   1.0   USD   \n",
       "3   1000  1972/12/31  1972.0   INDL      C      D     STD  AE.2   1.0   USD   \n",
       "4   1000  1973/12/31  1973.0   INDL      C      D     STD  AE.2   1.0   USD   \n",
       "\n",
       "   ...     re    revt    wcap   xacc    xad  xrd  exchg  costat  prcc_f  \\\n",
       "0  ...  4.795  37.392   3.334  0.742    NaN  NaN   12.0       I     NaN   \n",
       "1  ...  5.554  45.335   1.756  0.763    NaN  NaN   12.0       I  10.000   \n",
       "2  ...  3.080  47.033  11.181  1.195    NaN  NaN   12.0       I   5.750   \n",
       "3  ...  2.881  34.362   7.336  1.172  0.081  NaN   12.0       I   5.125   \n",
       "4  ...  4.744  37.750   8.327  0.826  0.222  NaN   12.0       I   1.750   \n",
       "\n",
       "   ggroup  \n",
       "0     NaN  \n",
       "1     NaN  \n",
       "2     NaN  \n",
       "3     NaN  \n",
       "4     NaN  \n",
       "\n",
       "[5 rows x 38 columns]"
      ]
     },
     "execution_count": 29,
     "metadata": {},
     "output_type": "execute_result"
    }
   ],
   "source": [
    "data.head()"
   ]
  },
  {
   "cell_type": "code",
   "execution_count": 30,
   "id": "ddd5cca8",
   "metadata": {},
   "outputs": [],
   "source": [
    "data_full = pd.merge(data, fallen_angels, left_on = ['gvkey', 'fyear'], right_on = ['gvkey', 'year'])"
   ]
  },
  {
   "cell_type": "code",
   "execution_count": 31,
   "id": "a8128305",
   "metadata": {},
   "outputs": [
    {
     "data": {
      "text/html": [
       "<div>\n",
       "<style scoped>\n",
       "    .dataframe tbody tr th:only-of-type {\n",
       "        vertical-align: middle;\n",
       "    }\n",
       "\n",
       "    .dataframe tbody tr th {\n",
       "        vertical-align: top;\n",
       "    }\n",
       "\n",
       "    .dataframe thead th {\n",
       "        text-align: right;\n",
       "    }\n",
       "</style>\n",
       "<table border=\"1\" class=\"dataframe\">\n",
       "  <thead>\n",
       "    <tr style=\"text-align: right;\">\n",
       "      <th></th>\n",
       "      <th>gvkey</th>\n",
       "      <th>datadate</th>\n",
       "      <th>fyear</th>\n",
       "      <th>indfmt</th>\n",
       "      <th>consol</th>\n",
       "      <th>popsrc</th>\n",
       "      <th>datafmt</th>\n",
       "      <th>tic</th>\n",
       "      <th>ajex</th>\n",
       "      <th>curcd</th>\n",
       "      <th>...</th>\n",
       "      <th>wcap</th>\n",
       "      <th>xacc</th>\n",
       "      <th>xad</th>\n",
       "      <th>xrd</th>\n",
       "      <th>exchg</th>\n",
       "      <th>costat</th>\n",
       "      <th>prcc_f</th>\n",
       "      <th>ggroup</th>\n",
       "      <th>year</th>\n",
       "      <th>fallen_angel</th>\n",
       "    </tr>\n",
       "  </thead>\n",
       "  <tbody>\n",
       "    <tr>\n",
       "      <th>0</th>\n",
       "      <td>1004</td>\n",
       "      <td>1991/05/31</td>\n",
       "      <td>1990.0</td>\n",
       "      <td>INDL</td>\n",
       "      <td>C</td>\n",
       "      <td>D</td>\n",
       "      <td>STD</td>\n",
       "      <td>AIR</td>\n",
       "      <td>1.5</td>\n",
       "      <td>USD</td>\n",
       "      <td>...</td>\n",
       "      <td>189.172</td>\n",
       "      <td>23.589</td>\n",
       "      <td>NaN</td>\n",
       "      <td>NaN</td>\n",
       "      <td>11.0</td>\n",
       "      <td>A</td>\n",
       "      <td>14.125</td>\n",
       "      <td>2010.0</td>\n",
       "      <td>1990</td>\n",
       "      <td>False</td>\n",
       "    </tr>\n",
       "    <tr>\n",
       "      <th>1</th>\n",
       "      <td>1004</td>\n",
       "      <td>1992/05/31</td>\n",
       "      <td>1991.0</td>\n",
       "      <td>INDL</td>\n",
       "      <td>C</td>\n",
       "      <td>D</td>\n",
       "      <td>STD</td>\n",
       "      <td>AIR</td>\n",
       "      <td>1.5</td>\n",
       "      <td>USD</td>\n",
       "      <td>...</td>\n",
       "      <td>197.246</td>\n",
       "      <td>18.889</td>\n",
       "      <td>NaN</td>\n",
       "      <td>NaN</td>\n",
       "      <td>11.0</td>\n",
       "      <td>A</td>\n",
       "      <td>12.875</td>\n",
       "      <td>2010.0</td>\n",
       "      <td>1991</td>\n",
       "      <td>False</td>\n",
       "    </tr>\n",
       "    <tr>\n",
       "      <th>2</th>\n",
       "      <td>1004</td>\n",
       "      <td>1993/05/31</td>\n",
       "      <td>1992.0</td>\n",
       "      <td>INDL</td>\n",
       "      <td>C</td>\n",
       "      <td>D</td>\n",
       "      <td>STD</td>\n",
       "      <td>AIR</td>\n",
       "      <td>1.5</td>\n",
       "      <td>USD</td>\n",
       "      <td>...</td>\n",
       "      <td>193.399</td>\n",
       "      <td>11.693</td>\n",
       "      <td>NaN</td>\n",
       "      <td>NaN</td>\n",
       "      <td>11.0</td>\n",
       "      <td>A</td>\n",
       "      <td>13.500</td>\n",
       "      <td>2010.0</td>\n",
       "      <td>1992</td>\n",
       "      <td>False</td>\n",
       "    </tr>\n",
       "    <tr>\n",
       "      <th>3</th>\n",
       "      <td>1004</td>\n",
       "      <td>1994/05/31</td>\n",
       "      <td>1993.0</td>\n",
       "      <td>INDL</td>\n",
       "      <td>C</td>\n",
       "      <td>D</td>\n",
       "      <td>STD</td>\n",
       "      <td>AIR</td>\n",
       "      <td>1.5</td>\n",
       "      <td>USD</td>\n",
       "      <td>...</td>\n",
       "      <td>240.009</td>\n",
       "      <td>13.312</td>\n",
       "      <td>NaN</td>\n",
       "      <td>NaN</td>\n",
       "      <td>11.0</td>\n",
       "      <td>A</td>\n",
       "      <td>14.375</td>\n",
       "      <td>2010.0</td>\n",
       "      <td>1993</td>\n",
       "      <td>False</td>\n",
       "    </tr>\n",
       "    <tr>\n",
       "      <th>4</th>\n",
       "      <td>1004</td>\n",
       "      <td>1995/05/31</td>\n",
       "      <td>1994.0</td>\n",
       "      <td>INDL</td>\n",
       "      <td>C</td>\n",
       "      <td>D</td>\n",
       "      <td>STD</td>\n",
       "      <td>AIR</td>\n",
       "      <td>1.5</td>\n",
       "      <td>USD</td>\n",
       "      <td>...</td>\n",
       "      <td>248.492</td>\n",
       "      <td>15.977</td>\n",
       "      <td>NaN</td>\n",
       "      <td>NaN</td>\n",
       "      <td>11.0</td>\n",
       "      <td>A</td>\n",
       "      <td>15.250</td>\n",
       "      <td>2010.0</td>\n",
       "      <td>1994</td>\n",
       "      <td>True</td>\n",
       "    </tr>\n",
       "  </tbody>\n",
       "</table>\n",
       "<p>5 rows × 40 columns</p>\n",
       "</div>"
      ],
      "text/plain": [
       "   gvkey    datadate   fyear indfmt consol popsrc datafmt  tic  ajex curcd  \\\n",
       "0   1004  1991/05/31  1990.0   INDL      C      D     STD  AIR   1.5   USD   \n",
       "1   1004  1992/05/31  1991.0   INDL      C      D     STD  AIR   1.5   USD   \n",
       "2   1004  1993/05/31  1992.0   INDL      C      D     STD  AIR   1.5   USD   \n",
       "3   1004  1994/05/31  1993.0   INDL      C      D     STD  AIR   1.5   USD   \n",
       "4   1004  1995/05/31  1994.0   INDL      C      D     STD  AIR   1.5   USD   \n",
       "\n",
       "   ...     wcap    xacc  xad  xrd  exchg  costat  prcc_f  ggroup  year  \\\n",
       "0  ...  189.172  23.589  NaN  NaN   11.0       A  14.125  2010.0  1990   \n",
       "1  ...  197.246  18.889  NaN  NaN   11.0       A  12.875  2010.0  1991   \n",
       "2  ...  193.399  11.693  NaN  NaN   11.0       A  13.500  2010.0  1992   \n",
       "3  ...  240.009  13.312  NaN  NaN   11.0       A  14.375  2010.0  1993   \n",
       "4  ...  248.492  15.977  NaN  NaN   11.0       A  15.250  2010.0  1994   \n",
       "\n",
       "   fallen_angel  \n",
       "0         False  \n",
       "1         False  \n",
       "2         False  \n",
       "3         False  \n",
       "4          True  \n",
       "\n",
       "[5 rows x 40 columns]"
      ]
     },
     "execution_count": 31,
     "metadata": {},
     "output_type": "execute_result"
    }
   ],
   "source": [
    "data_full.head()"
   ]
  },
  {
   "cell_type": "code",
   "execution_count": 32,
   "id": "0bdcee44",
   "metadata": {},
   "outputs": [],
   "source": [
    "data_new = data_full[data_full['fyear'] >= 2000]"
   ]
  },
  {
   "cell_type": "code",
   "execution_count": 33,
   "id": "85730a9c",
   "metadata": {},
   "outputs": [
    {
     "data": {
      "text/plain": [
       "False    19939\n",
       "True       611\n",
       "Name: fallen_angel, dtype: int64"
      ]
     },
     "execution_count": 33,
     "metadata": {},
     "output_type": "execute_result"
    }
   ],
   "source": [
    "data_new.fallen_angel.value_counts()"
   ]
  },
  {
   "cell_type": "code",
   "execution_count": 34,
   "id": "21f04948",
   "metadata": {},
   "outputs": [
    {
     "data": {
      "text/plain": [
       "2001.0    1325\n",
       "2002.0    1288\n",
       "2000.0    1284\n",
       "2003.0    1280\n",
       "2005.0    1227\n",
       "2004.0    1220\n",
       "2006.0    1197\n",
       "2007.0    1149\n",
       "2008.0    1123\n",
       "2009.0    1092\n",
       "2014.0    1092\n",
       "2013.0    1064\n",
       "2015.0    1054\n",
       "2010.0    1054\n",
       "2012.0    1050\n",
       "2011.0    1045\n",
       "2016.0    1025\n",
       "2017.0     981\n",
       "Name: fyear, dtype: int64"
      ]
     },
     "execution_count": 34,
     "metadata": {},
     "output_type": "execute_result"
    }
   ],
   "source": [
    "data_new.fyear.value_counts()"
   ]
  },
  {
   "cell_type": "code",
   "execution_count": 35,
   "id": "e0efec56",
   "metadata": {},
   "outputs": [
    {
     "data": {
      "text/html": [
       "<div>\n",
       "<style scoped>\n",
       "    .dataframe tbody tr th:only-of-type {\n",
       "        vertical-align: middle;\n",
       "    }\n",
       "\n",
       "    .dataframe tbody tr th {\n",
       "        vertical-align: top;\n",
       "    }\n",
       "\n",
       "    .dataframe thead th {\n",
       "        text-align: right;\n",
       "    }\n",
       "</style>\n",
       "<table border=\"1\" class=\"dataframe\">\n",
       "  <thead>\n",
       "    <tr style=\"text-align: right;\">\n",
       "      <th></th>\n",
       "      <th>gvkey</th>\n",
       "      <th>datadate</th>\n",
       "      <th>fyear</th>\n",
       "      <th>indfmt</th>\n",
       "      <th>consol</th>\n",
       "      <th>popsrc</th>\n",
       "      <th>datafmt</th>\n",
       "      <th>tic</th>\n",
       "      <th>ajex</th>\n",
       "      <th>curcd</th>\n",
       "      <th>...</th>\n",
       "      <th>wcap</th>\n",
       "      <th>xacc</th>\n",
       "      <th>xad</th>\n",
       "      <th>xrd</th>\n",
       "      <th>exchg</th>\n",
       "      <th>costat</th>\n",
       "      <th>prcc_f</th>\n",
       "      <th>ggroup</th>\n",
       "      <th>year</th>\n",
       "      <th>fallen_angel</th>\n",
       "    </tr>\n",
       "  </thead>\n",
       "  <tbody>\n",
       "    <tr>\n",
       "      <th>8</th>\n",
       "      <td>1004</td>\n",
       "      <td>2001/05/31</td>\n",
       "      <td>2000.0</td>\n",
       "      <td>INDL</td>\n",
       "      <td>C</td>\n",
       "      <td>D</td>\n",
       "      <td>STD</td>\n",
       "      <td>AIR</td>\n",
       "      <td>1.0</td>\n",
       "      <td>USD</td>\n",
       "      <td>...</td>\n",
       "      <td>360.464</td>\n",
       "      <td>35.706</td>\n",
       "      <td>NaN</td>\n",
       "      <td>NaN</td>\n",
       "      <td>11.0</td>\n",
       "      <td>A</td>\n",
       "      <td>14.0000</td>\n",
       "      <td>2010.0</td>\n",
       "      <td>2000</td>\n",
       "      <td>False</td>\n",
       "    </tr>\n",
       "    <tr>\n",
       "      <th>9</th>\n",
       "      <td>1004</td>\n",
       "      <td>2002/05/31</td>\n",
       "      <td>2001.0</td>\n",
       "      <td>INDL</td>\n",
       "      <td>C</td>\n",
       "      <td>D</td>\n",
       "      <td>STD</td>\n",
       "      <td>AIR</td>\n",
       "      <td>1.0</td>\n",
       "      <td>USD</td>\n",
       "      <td>...</td>\n",
       "      <td>286.192</td>\n",
       "      <td>54.563</td>\n",
       "      <td>NaN</td>\n",
       "      <td>NaN</td>\n",
       "      <td>11.0</td>\n",
       "      <td>A</td>\n",
       "      <td>11.4400</td>\n",
       "      <td>2010.0</td>\n",
       "      <td>2001</td>\n",
       "      <td>False</td>\n",
       "    </tr>\n",
       "    <tr>\n",
       "      <th>10</th>\n",
       "      <td>1036</td>\n",
       "      <td>2000/12/31</td>\n",
       "      <td>2000.0</td>\n",
       "      <td>INDL</td>\n",
       "      <td>C</td>\n",
       "      <td>D</td>\n",
       "      <td>STD</td>\n",
       "      <td>UDI.</td>\n",
       "      <td>1.0</td>\n",
       "      <td>USD</td>\n",
       "      <td>...</td>\n",
       "      <td>397.145</td>\n",
       "      <td>204.080</td>\n",
       "      <td>NaN</td>\n",
       "      <td>NaN</td>\n",
       "      <td>11.0</td>\n",
       "      <td>I</td>\n",
       "      <td>12.1875</td>\n",
       "      <td>2010.0</td>\n",
       "      <td>2000</td>\n",
       "      <td>False</td>\n",
       "    </tr>\n",
       "    <tr>\n",
       "      <th>18</th>\n",
       "      <td>1048</td>\n",
       "      <td>2000/12/31</td>\n",
       "      <td>2000.0</td>\n",
       "      <td>INDL</td>\n",
       "      <td>C</td>\n",
       "      <td>D</td>\n",
       "      <td>STD</td>\n",
       "      <td>4267A</td>\n",
       "      <td>1.0</td>\n",
       "      <td>USD</td>\n",
       "      <td>...</td>\n",
       "      <td>172.000</td>\n",
       "      <td>NaN</td>\n",
       "      <td>NaN</td>\n",
       "      <td>NaN</td>\n",
       "      <td>0.0</td>\n",
       "      <td>I</td>\n",
       "      <td>NaN</td>\n",
       "      <td>1010.0</td>\n",
       "      <td>2000</td>\n",
       "      <td>False</td>\n",
       "    </tr>\n",
       "    <tr>\n",
       "      <th>19</th>\n",
       "      <td>1048</td>\n",
       "      <td>2001/12/31</td>\n",
       "      <td>2001.0</td>\n",
       "      <td>INDL</td>\n",
       "      <td>C</td>\n",
       "      <td>D</td>\n",
       "      <td>STD</td>\n",
       "      <td>4267A</td>\n",
       "      <td>1.0</td>\n",
       "      <td>USD</td>\n",
       "      <td>...</td>\n",
       "      <td>218.000</td>\n",
       "      <td>9.000</td>\n",
       "      <td>NaN</td>\n",
       "      <td>NaN</td>\n",
       "      <td>0.0</td>\n",
       "      <td>I</td>\n",
       "      <td>NaN</td>\n",
       "      <td>1010.0</td>\n",
       "      <td>2001</td>\n",
       "      <td>True</td>\n",
       "    </tr>\n",
       "  </tbody>\n",
       "</table>\n",
       "<p>5 rows × 40 columns</p>\n",
       "</div>"
      ],
      "text/plain": [
       "    gvkey    datadate   fyear indfmt consol popsrc datafmt    tic  ajex curcd  \\\n",
       "8    1004  2001/05/31  2000.0   INDL      C      D     STD    AIR   1.0   USD   \n",
       "9    1004  2002/05/31  2001.0   INDL      C      D     STD    AIR   1.0   USD   \n",
       "10   1036  2000/12/31  2000.0   INDL      C      D     STD   UDI.   1.0   USD   \n",
       "18   1048  2000/12/31  2000.0   INDL      C      D     STD  4267A   1.0   USD   \n",
       "19   1048  2001/12/31  2001.0   INDL      C      D     STD  4267A   1.0   USD   \n",
       "\n",
       "    ...     wcap     xacc  xad  xrd  exchg  costat   prcc_f  ggroup  year  \\\n",
       "8   ...  360.464   35.706  NaN  NaN   11.0       A  14.0000  2010.0  2000   \n",
       "9   ...  286.192   54.563  NaN  NaN   11.0       A  11.4400  2010.0  2001   \n",
       "10  ...  397.145  204.080  NaN  NaN   11.0       I  12.1875  2010.0  2000   \n",
       "18  ...  172.000      NaN  NaN  NaN    0.0       I      NaN  1010.0  2000   \n",
       "19  ...  218.000    9.000  NaN  NaN    0.0       I      NaN  1010.0  2001   \n",
       "\n",
       "    fallen_angel  \n",
       "8          False  \n",
       "9          False  \n",
       "10         False  \n",
       "18         False  \n",
       "19          True  \n",
       "\n",
       "[5 rows x 40 columns]"
      ]
     },
     "execution_count": 35,
     "metadata": {},
     "output_type": "execute_result"
    }
   ],
   "source": [
    "data_new.head()"
   ]
  },
  {
   "cell_type": "code",
   "execution_count": 36,
   "id": "6e271650",
   "metadata": {},
   "outputs": [],
   "source": [
    "data_new.isnull().sum()\n",
    "df = data_new.copy()"
   ]
  },
  {
   "cell_type": "code",
   "execution_count": 37,
   "id": "e1b53679",
   "metadata": {},
   "outputs": [],
   "source": [
    "## dropping unneeded cols here\n",
    "df = df.drop(columns = ['indfmt', 'consol', 'popsrc', 'datafmt', 'costat'])\n",
    "df = df.drop_duplicates(subset = ['gvkey', 'fyear'])"
   ]
  },
  {
   "cell_type": "code",
   "execution_count": 38,
   "id": "942b58cb",
   "metadata": {},
   "outputs": [],
   "source": [
    "## cleaning \n",
    "\n",
    "# dropping csho = 0 or NaN\n",
    "df = df[df['csho'] != 0]\n",
    "# dropping revt = 0 or NaN\n",
    "df = df[df['revt'] != 0]\n",
    "df = df.dropna(subset=['revt', 'csho','tic','prcc_f'], how = 'any')\n",
    "# dropping when csho < .1 bc having less 100k shares outstanding skews our findings drastically\n",
    "df = df[df['csho'] > .1]\n",
    "\n",
    "\n",
    "\n",
    "df['xad'] = df['xad'].fillna(0)\n",
    "df['xrd'] = df['xrd'].fillna(0)\n",
    "\n",
    "\n",
    "df = df.reset_index(drop=True)"
   ]
  },
  {
   "cell_type": "code",
   "execution_count": 39,
   "id": "ce0f2885",
   "metadata": {},
   "outputs": [],
   "source": [
    "df['ajex'] = df['ajex'].replace(0, 1)\n",
    "df['ajex'] = df['ajex'].fillna(1)\n",
    "df['csho_adj'] = df['csho'] / df['ajex']"
   ]
  },
  {
   "cell_type": "code",
   "execution_count": 40,
   "id": "9db59550",
   "metadata": {},
   "outputs": [],
   "source": [
    "new_df = pd.DataFrame(columns=df.columns)\n",
    "for i in range(2000, 2021):\n",
    "    df2 = df[df['fyear'] == i]\n",
    "    df2['act'] = df2['act'].fillna(df2['act'].median())\n",
    "    df2['lct'] = df2['lct'].fillna(df2['lct'].median())\n",
    "    df2['bkvlps'] = df2['bkvlps'].fillna(df2['bkvlps'].median())\n",
    "    df2['capx'] = df2['capx'].fillna(df2['capx'].median())\n",
    "    df2['ceq'] = df2['ceq'].fillna(df2['ceq'].median())\n",
    "    df2['ch'] = df2['ch'].fillna(df2['ch'].median())\n",
    "    df2['cogs'] = df2['cogs'].fillna(df2['cogs'].median())\n",
    "    df2['dltt'] = df2['dltt'].fillna(df2['dltt'].median())\n",
    "    df2['dt'] = df2['dt'].fillna(df2['dt'].median())\n",
    "    df2['dv'] = df2['dv'].fillna(df2['dv'].median())\n",
    "    df2['ebit'] = df2['ebit'].fillna(df2['ebit'].median())\n",
    "    df2['ebitda'] = df2['ebitda'].fillna(df2['ebitda'].median())\n",
    "    df2['invt'] = df2['invt'].fillna(df2['invt'].median())\n",
    "    df2['ni'] = df2['ni'].fillna(df2['ni'].median())\n",
    "    df2['opeps'] = df2['opeps'].fillna(df2['opeps'].median())\n",
    "    df2['re'] = df2['re'].fillna(df2['re'].median())\n",
    "    df2['revt'] = df2['revt'].fillna(df2['revt'].median())\n",
    "    df2['wcap'] = df2['wcap'].fillna(df2['wcap'].median())\n",
    "    df2['xacc'] = df2['xacc'].fillna(df2['xacc'].median())\n",
    "    \n",
    "    new_df = new_df.append(df2)\n",
    "    \n",
    "    new_df['pm'] = new_df['ni'] / new_df['revt']\n",
    "    new_df['atr'] = new_df['revt'] / new_df['at']\n",
    "    new_df['fl'] = new_df['at'] / new_df['ceq']\n",
    "    new_df['cr'] = new_df['act'] / new_df['lct']\n",
    "    new_df['de'] = new_df['dt'] / new_df['ceq']\n",
    "    new_df['roa'] = new_df['ni'] / new_df['at']"
   ]
  },
  {
   "cell_type": "code",
   "execution_count": 41,
   "id": "48b516fb",
   "metadata": {},
   "outputs": [],
   "source": [
    "df = new_df.copy()\n",
    "\n",
    "df = df[df['at'] != 0]\n",
    "df = df[df['lct'] != 0]\n",
    "df = df[df['act'] != 0]\n",
    "\n",
    "df['actps'] = df['act'] / df['csho']\n",
    "df['atps'] = df['at'] / df['csho']\n",
    "df['lctps'] = df['lct'] / df['csho']\n",
    "df['capxps'] = df['capx'] / df['csho']\n",
    "df['ceqps'] = df['ceq'] / df['csho']\n",
    "df['chps'] = df['ch'] / df['csho']\n",
    "df['cogsps'] = df['cogs'] / df['csho']\n",
    "df['dlttps'] = df['dltt'] / df['csho']\n",
    "df['dtps'] = df['dt'] / df['csho']\n",
    "df['dvps'] = df['dv'] / df['csho']\n",
    "df['ebitps'] = df['ebit'] / df['csho']\n",
    "df['ebitdaps'] = df['ebitda'] / df['csho']\n",
    "df['invtps'] = df['invt'] / df['csho']\n",
    "df['nips'] = df['ni'] / df['csho']\n",
    "df['reps'] = df['re'] / df['csho']\n",
    "df['revtps'] = df['revt'] / df['csho']\n",
    "df['wcapps'] = df['wcap'] / df['csho']\n",
    "df['xaccps'] = df['xacc'] / df['csho']\n",
    "df['xadps'] = df['xad'] / df['csho']\n",
    "df['xrdps'] =df['xrd'] / df['csho']\n",
    "df['pmps'] = df['pm'] / df['csho']\n",
    "df['atrps'] = df['atr'] / df['csho']\n",
    "df['flps'] = df['fl'] / df['csho']\n",
    "df['crps'] = df['cr'] / df['csho']\n",
    "df['deps'] = df['de'] / df['csho']\n",
    "df['roaps'] = df['roa'] / df['csho']\n",
    "\n",
    "new_df = df.copy()"
   ]
  },
  {
   "cell_type": "code",
   "execution_count": 42,
   "id": "b94a1a3e",
   "metadata": {},
   "outputs": [
    {
     "data": {
      "text/plain": [
       "Index(['gvkey', 'datadate', 'fyear', 'tic', 'ajex', 'curcd', 'fyr', 'act',\n",
       "       'at', 'bkvlps', 'capx', 'ceq', 'ch', 'cogs', 'csho', 'dltt', 'dt', 'dv',\n",
       "       'ebit', 'ebitda', 'invt', 'lct', 'ni', 'opeps', 're', 'revt', 'wcap',\n",
       "       'xacc', 'xad', 'xrd', 'exchg', 'prcc_f', 'ggroup', 'year',\n",
       "       'fallen_angel', 'csho_adj', 'pm', 'atr', 'fl', 'cr', 'de', 'roa',\n",
       "       'actps', 'atps', 'lctps', 'capxps', 'ceqps', 'chps', 'cogsps', 'dlttps',\n",
       "       'dtps', 'dvps', 'ebitps', 'ebitdaps', 'invtps', 'nips', 'reps',\n",
       "       'revtps', 'wcapps', 'xaccps', 'xadps', 'xrdps', 'pmps', 'atrps', 'flps',\n",
       "       'crps', 'deps', 'roaps'],\n",
       "      dtype='object')"
      ]
     },
     "execution_count": 42,
     "metadata": {},
     "output_type": "execute_result"
    }
   ],
   "source": [
    "new_df.columns"
   ]
  },
  {
   "cell_type": "code",
   "execution_count": 43,
   "id": "3c92c794",
   "metadata": {},
   "outputs": [
    {
     "data": {
      "text/plain": [
       "13201"
      ]
     },
     "execution_count": 43,
     "metadata": {},
     "output_type": "execute_result"
    }
   ],
   "source": [
    "len(new_df)"
   ]
  },
  {
   "cell_type": "code",
   "execution_count": 44,
   "id": "0e8443cf",
   "metadata": {},
   "outputs": [
    {
     "data": {
      "text/html": [
       "<div>\n",
       "<style scoped>\n",
       "    .dataframe tbody tr th:only-of-type {\n",
       "        vertical-align: middle;\n",
       "    }\n",
       "\n",
       "    .dataframe tbody tr th {\n",
       "        vertical-align: top;\n",
       "    }\n",
       "\n",
       "    .dataframe thead th {\n",
       "        text-align: right;\n",
       "    }\n",
       "</style>\n",
       "<table border=\"1\" class=\"dataframe\">\n",
       "  <thead>\n",
       "    <tr style=\"text-align: right;\">\n",
       "      <th></th>\n",
       "      <th>gvkey</th>\n",
       "      <th>datadate</th>\n",
       "      <th>fyear</th>\n",
       "      <th>tic</th>\n",
       "      <th>ajex</th>\n",
       "      <th>curcd</th>\n",
       "      <th>fyr</th>\n",
       "      <th>act</th>\n",
       "      <th>at</th>\n",
       "      <th>bkvlps</th>\n",
       "      <th>...</th>\n",
       "      <th>wcapps</th>\n",
       "      <th>xaccps</th>\n",
       "      <th>xadps</th>\n",
       "      <th>xrdps</th>\n",
       "      <th>pmps</th>\n",
       "      <th>atrps</th>\n",
       "      <th>flps</th>\n",
       "      <th>crps</th>\n",
       "      <th>deps</th>\n",
       "      <th>roaps</th>\n",
       "    </tr>\n",
       "  </thead>\n",
       "  <tbody>\n",
       "    <tr>\n",
       "      <th>0</th>\n",
       "      <td>1004</td>\n",
       "      <td>2001/05/31</td>\n",
       "      <td>2000.0</td>\n",
       "      <td>AIR</td>\n",
       "      <td>1.0</td>\n",
       "      <td>USD</td>\n",
       "      <td>5.0</td>\n",
       "      <td>485.856</td>\n",
       "      <td>701.854</td>\n",
       "      <td>12.6299</td>\n",
       "      <td>...</td>\n",
       "      <td>13.381743</td>\n",
       "      <td>1.325537</td>\n",
       "      <td>0.0</td>\n",
       "      <td>0.000000</td>\n",
       "      <td>0.000787</td>\n",
       "      <td>0.046243</td>\n",
       "      <td>0.076586</td>\n",
       "      <td>0.143843</td>\n",
       "      <td>0.019685</td>\n",
       "      <td>0.000980</td>\n",
       "    </tr>\n",
       "    <tr>\n",
       "      <th>2</th>\n",
       "      <td>1036</td>\n",
       "      <td>2000/12/31</td>\n",
       "      <td>2000.0</td>\n",
       "      <td>UDI.</td>\n",
       "      <td>1.0</td>\n",
       "      <td>USD</td>\n",
       "      <td>12.0</td>\n",
       "      <td>942.624</td>\n",
       "      <td>2325.377</td>\n",
       "      <td>23.5597</td>\n",
       "      <td>...</td>\n",
       "      <td>10.150671</td>\n",
       "      <td>5.216102</td>\n",
       "      <td>0.0</td>\n",
       "      <td>0.000000</td>\n",
       "      <td>0.000611</td>\n",
       "      <td>0.026008</td>\n",
       "      <td>0.064478</td>\n",
       "      <td>0.044168</td>\n",
       "      <td>0.019636</td>\n",
       "      <td>0.000622</td>\n",
       "    </tr>\n",
       "    <tr>\n",
       "      <th>3</th>\n",
       "      <td>1075</td>\n",
       "      <td>2000/12/31</td>\n",
       "      <td>2000.0</td>\n",
       "      <td>PNW</td>\n",
       "      <td>1.0</td>\n",
       "      <td>USD</td>\n",
       "      <td>12.0</td>\n",
       "      <td>793.913</td>\n",
       "      <td>7149.151</td>\n",
       "      <td>28.0898</td>\n",
       "      <td>...</td>\n",
       "      <td>-4.684763</td>\n",
       "      <td>0.506384</td>\n",
       "      <td>0.0</td>\n",
       "      <td>0.000000</td>\n",
       "      <td>0.000966</td>\n",
       "      <td>0.006085</td>\n",
       "      <td>0.035372</td>\n",
       "      <td>0.007856</td>\n",
       "      <td>0.006024</td>\n",
       "      <td>0.000499</td>\n",
       "    </tr>\n",
       "    <tr>\n",
       "      <th>16</th>\n",
       "      <td>1078</td>\n",
       "      <td>2000/12/31</td>\n",
       "      <td>2000.0</td>\n",
       "      <td>ABT</td>\n",
       "      <td>1.0</td>\n",
       "      <td>USD</td>\n",
       "      <td>12.0</td>\n",
       "      <td>7376.241</td>\n",
       "      <td>15283.254</td>\n",
       "      <td>5.5442</td>\n",
       "      <td>...</td>\n",
       "      <td>1.991483</td>\n",
       "      <td>1.261769</td>\n",
       "      <td>0.0</td>\n",
       "      <td>0.873921</td>\n",
       "      <td>0.000131</td>\n",
       "      <td>0.000582</td>\n",
       "      <td>0.001153</td>\n",
       "      <td>0.001110</td>\n",
       "      <td>0.000100</td>\n",
       "      <td>0.000118</td>\n",
       "    </tr>\n",
       "    <tr>\n",
       "      <th>49</th>\n",
       "      <td>1209</td>\n",
       "      <td>2000/09/30</td>\n",
       "      <td>2000.0</td>\n",
       "      <td>APD</td>\n",
       "      <td>1.0</td>\n",
       "      <td>USD</td>\n",
       "      <td>9.0</td>\n",
       "      <td>1805.000</td>\n",
       "      <td>8270.500</td>\n",
       "      <td>13.1702</td>\n",
       "      <td>...</td>\n",
       "      <td>2.008225</td>\n",
       "      <td>1.667452</td>\n",
       "      <td>0.0</td>\n",
       "      <td>0.580714</td>\n",
       "      <td>0.000106</td>\n",
       "      <td>0.003086</td>\n",
       "      <td>0.013684</td>\n",
       "      <td>0.006129</td>\n",
       "      <td>0.004625</td>\n",
       "      <td>0.000070</td>\n",
       "    </tr>\n",
       "  </tbody>\n",
       "</table>\n",
       "<p>5 rows × 68 columns</p>\n",
       "</div>"
      ],
      "text/plain": [
       "   gvkey    datadate   fyear   tic  ajex curcd   fyr       act         at  \\\n",
       "0   1004  2001/05/31  2000.0   AIR   1.0   USD   5.0   485.856    701.854   \n",
       "2   1036  2000/12/31  2000.0  UDI.   1.0   USD  12.0   942.624   2325.377   \n",
       "3   1075  2000/12/31  2000.0   PNW   1.0   USD  12.0   793.913   7149.151   \n",
       "16  1078  2000/12/31  2000.0   ABT   1.0   USD  12.0  7376.241  15283.254   \n",
       "49  1209  2000/09/30  2000.0   APD   1.0   USD   9.0  1805.000   8270.500   \n",
       "\n",
       "     bkvlps  ...     wcapps    xaccps  xadps     xrdps      pmps     atrps  \\\n",
       "0   12.6299  ...  13.381743  1.325537    0.0  0.000000  0.000787  0.046243   \n",
       "2   23.5597  ...  10.150671  5.216102    0.0  0.000000  0.000611  0.026008   \n",
       "3   28.0898  ...  -4.684763  0.506384    0.0  0.000000  0.000966  0.006085   \n",
       "16   5.5442  ...   1.991483  1.261769    0.0  0.873921  0.000131  0.000582   \n",
       "49  13.1702  ...   2.008225  1.667452    0.0  0.580714  0.000106  0.003086   \n",
       "\n",
       "        flps      crps      deps     roaps  \n",
       "0   0.076586  0.143843  0.019685  0.000980  \n",
       "2   0.064478  0.044168  0.019636  0.000622  \n",
       "3   0.035372  0.007856  0.006024  0.000499  \n",
       "16  0.001153  0.001110  0.000100  0.000118  \n",
       "49  0.013684  0.006129  0.004625  0.000070  \n",
       "\n",
       "[5 rows x 68 columns]"
      ]
     },
     "execution_count": 44,
     "metadata": {},
     "output_type": "execute_result"
    }
   ],
   "source": [
    "new_df.head()"
   ]
  },
  {
   "cell_type": "code",
   "execution_count": 45,
   "id": "c13d81cb",
   "metadata": {},
   "outputs": [
    {
     "data": {
      "text/plain": [
       "Index(['gvkey', 'datadate', 'fyear', 'tic', 'ajex', 'curcd', 'fyr', 'act',\n",
       "       'at', 'bkvlps', 'capx', 'ceq', 'ch', 'cogs', 'csho', 'dltt', 'dt', 'dv',\n",
       "       'ebit', 'ebitda', 'invt', 'lct', 'ni', 'opeps', 're', 'revt', 'wcap',\n",
       "       'xacc', 'xad', 'xrd', 'exchg', 'prcc_f', 'ggroup', 'year',\n",
       "       'fallen_angel', 'csho_adj', 'pm', 'atr', 'fl', 'cr', 'de', 'roa',\n",
       "       'actps', 'atps', 'lctps', 'capxps', 'ceqps', 'chps', 'cogsps', 'dlttps',\n",
       "       'dtps', 'dvps', 'ebitps', 'ebitdaps', 'invtps', 'nips', 'reps',\n",
       "       'revtps', 'wcapps', 'xaccps', 'xadps', 'xrdps', 'pmps', 'atrps', 'flps',\n",
       "       'crps', 'deps', 'roaps'],\n",
       "      dtype='object')"
      ]
     },
     "execution_count": 45,
     "metadata": {},
     "output_type": "execute_result"
    }
   ],
   "source": [
    "new_df.columns"
   ]
  },
  {
   "cell_type": "markdown",
   "id": "8f93f552",
   "metadata": {},
   "source": [
    "**Importing Sentiment Data from Filings**"
   ]
  },
  {
   "cell_type": "code",
   "execution_count": 46,
   "id": "3f5d30d1",
   "metadata": {},
   "outputs": [],
   "source": [
    "import glob, os"
   ]
  },
  {
   "cell_type": "code",
   "execution_count": 47,
   "id": "1b06958c",
   "metadata": {},
   "outputs": [],
   "source": [
    "path = os.getcwd()\n",
    "csv_files = glob.glob(os.path.join(path + '/filing_sentiments/', \"*.csv\"))\n",
    "\n",
    "sentiment_data = pd.DataFrame()\n",
    "\n",
    "for f in csv_files:\n",
    "    csv = pd.read_csv(f)\n",
    "    sentiment_data = sentiment_data.append(csv)\n",
    "    "
   ]
  },
  {
   "cell_type": "code",
   "execution_count": 48,
   "id": "1d864251",
   "metadata": {},
   "outputs": [
    {
     "data": {
      "text/html": [
       "<div>\n",
       "<style scoped>\n",
       "    .dataframe tbody tr th:only-of-type {\n",
       "        vertical-align: middle;\n",
       "    }\n",
       "\n",
       "    .dataframe tbody tr th {\n",
       "        vertical-align: top;\n",
       "    }\n",
       "\n",
       "    .dataframe thead th {\n",
       "        text-align: right;\n",
       "    }\n",
       "</style>\n",
       "<table border=\"1\" class=\"dataframe\">\n",
       "  <thead>\n",
       "    <tr style=\"text-align: right;\">\n",
       "      <th></th>\n",
       "      <th>Unnamed: 0</th>\n",
       "      <th>gvkey</th>\n",
       "      <th>date</th>\n",
       "      <th>report_type</th>\n",
       "      <th>sentiment_score</th>\n",
       "      <th>tot_pos</th>\n",
       "      <th>tot_neu</th>\n",
       "      <th>tot_neg</th>\n",
       "      <th>raw_text</th>\n",
       "    </tr>\n",
       "  </thead>\n",
       "  <tbody>\n",
       "    <tr>\n",
       "      <th>0</th>\n",
       "      <td>0</td>\n",
       "      <td>10005</td>\n",
       "      <td>2000-12-31</td>\n",
       "      <td>10-K</td>\n",
       "      <td>0.491296</td>\n",
       "      <td>47</td>\n",
       "      <td>414</td>\n",
       "      <td>56</td>\n",
       "      <td>10-K 1 sr10k.htm STANDARD REGISTER FORM 10-K ...</td>\n",
       "    </tr>\n",
       "    <tr>\n",
       "      <th>1</th>\n",
       "      <td>0</td>\n",
       "      <td>10005</td>\n",
       "      <td>2001-12-30</td>\n",
       "      <td>10-K</td>\n",
       "      <td>0.530717</td>\n",
       "      <td>40</td>\n",
       "      <td>231</td>\n",
       "      <td>22</td>\n",
       "      <td>10-K 1 sr10k02.htm THE STANDARD REGISTER COMP...</td>\n",
       "    </tr>\n",
       "    <tr>\n",
       "      <th>2</th>\n",
       "      <td>0</td>\n",
       "      <td>10005</td>\n",
       "      <td>2002-12-29</td>\n",
       "      <td>10-K</td>\n",
       "      <td>0.473976</td>\n",
       "      <td>129</td>\n",
       "      <td>853</td>\n",
       "      <td>190</td>\n",
       "      <td>10-K 1 sr10k2002.htm UNITED STATES SECURITIES...</td>\n",
       "    </tr>\n",
       "    <tr>\n",
       "      <th>3</th>\n",
       "      <td>0</td>\n",
       "      <td>10005</td>\n",
       "      <td>2003-12-28</td>\n",
       "      <td>10-K</td>\n",
       "      <td>0.468210</td>\n",
       "      <td>148</td>\n",
       "      <td>897</td>\n",
       "      <td>229</td>\n",
       "      <td>10-K 1 sr10k20032.htm FORM 10-K UNITED STATES...</td>\n",
       "    </tr>\n",
       "    <tr>\n",
       "      <th>4</th>\n",
       "      <td>0</td>\n",
       "      <td>10005</td>\n",
       "      <td>2005-01-02</td>\n",
       "      <td>10-K</td>\n",
       "      <td>0.481028</td>\n",
       "      <td>165</td>\n",
       "      <td>887</td>\n",
       "      <td>213</td>\n",
       "      <td>10-K 1 sr10k2004.htm FORM 10-K UNITED STATES ...</td>\n",
       "    </tr>\n",
       "    <tr>\n",
       "      <th>...</th>\n",
       "      <td>...</td>\n",
       "      <td>...</td>\n",
       "      <td>...</td>\n",
       "      <td>...</td>\n",
       "      <td>...</td>\n",
       "      <td>...</td>\n",
       "      <td>...</td>\n",
       "      <td>...</td>\n",
       "      <td>...</td>\n",
       "    </tr>\n",
       "    <tr>\n",
       "      <th>12</th>\n",
       "      <td>0</td>\n",
       "      <td>9906</td>\n",
       "      <td>2011-12-31</td>\n",
       "      <td>10-K</td>\n",
       "      <td>0.449349</td>\n",
       "      <td>72</td>\n",
       "      <td>823</td>\n",
       "      <td>181</td>\n",
       "      <td>10-K 1 form10k.htm SOUTHWESTERN PUBLIC SERVIC...</td>\n",
       "    </tr>\n",
       "    <tr>\n",
       "      <th>13</th>\n",
       "      <td>0</td>\n",
       "      <td>9906</td>\n",
       "      <td>2012-12-31</td>\n",
       "      <td>10-K</td>\n",
       "      <td>0.444085</td>\n",
       "      <td>61</td>\n",
       "      <td>839</td>\n",
       "      <td>182</td>\n",
       "      <td>10-K 1 form10k.htm SOUTHWESTERN PUBLIC SERVIC...</td>\n",
       "    </tr>\n",
       "    <tr>\n",
       "      <th>14</th>\n",
       "      <td>0</td>\n",
       "      <td>9906</td>\n",
       "      <td>2013-12-31</td>\n",
       "      <td>10-K</td>\n",
       "      <td>0.440252</td>\n",
       "      <td>49</td>\n",
       "      <td>602</td>\n",
       "      <td>144</td>\n",
       "      <td>10-K 1 sps1231201310-k.htm 10-K SPS 12.31.201...</td>\n",
       "    </tr>\n",
       "    <tr>\n",
       "      <th>15</th>\n",
       "      <td>0</td>\n",
       "      <td>9906</td>\n",
       "      <td>2014-12-31</td>\n",
       "      <td>10-K</td>\n",
       "      <td>0.455610</td>\n",
       "      <td>72</td>\n",
       "      <td>595</td>\n",
       "      <td>144</td>\n",
       "      <td>10-K 1 sps1231201410-k.htm 10-K SPS 12.31.201...</td>\n",
       "    </tr>\n",
       "    <tr>\n",
       "      <th>0</th>\n",
       "      <td>0</td>\n",
       "      <td>9963</td>\n",
       "      <td>2000-12-30</td>\n",
       "      <td>10-K</td>\n",
       "      <td>0.501326</td>\n",
       "      <td>12</td>\n",
       "      <td>354</td>\n",
       "      <td>11</td>\n",
       "      <td>10-K 1 g67902e10-k.txt SPRINGS INDUSTRIES, IN...</td>\n",
       "    </tr>\n",
       "  </tbody>\n",
       "</table>\n",
       "<p>13803 rows × 9 columns</p>\n",
       "</div>"
      ],
      "text/plain": [
       "   Unnamed: 0  gvkey        date report_type  sentiment_score tot_pos tot_neu  \\\n",
       "0           0  10005  2000-12-31        10-K         0.491296      47     414   \n",
       "1           0  10005  2001-12-30        10-K         0.530717      40     231   \n",
       "2           0  10005  2002-12-29        10-K         0.473976     129     853   \n",
       "3           0  10005  2003-12-28        10-K         0.468210     148     897   \n",
       "4           0  10005  2005-01-02        10-K         0.481028     165     887   \n",
       "..        ...    ...         ...         ...              ...     ...     ...   \n",
       "12          0   9906  2011-12-31        10-K         0.449349      72     823   \n",
       "13          0   9906  2012-12-31        10-K         0.444085      61     839   \n",
       "14          0   9906  2013-12-31        10-K         0.440252      49     602   \n",
       "15          0   9906  2014-12-31        10-K         0.455610      72     595   \n",
       "0           0   9963  2000-12-30        10-K         0.501326      12     354   \n",
       "\n",
       "   tot_neg                                           raw_text  \n",
       "0       56   10-K 1 sr10k.htm STANDARD REGISTER FORM 10-K ...  \n",
       "1       22   10-K 1 sr10k02.htm THE STANDARD REGISTER COMP...  \n",
       "2      190   10-K 1 sr10k2002.htm UNITED STATES SECURITIES...  \n",
       "3      229   10-K 1 sr10k20032.htm FORM 10-K UNITED STATES...  \n",
       "4      213   10-K 1 sr10k2004.htm FORM 10-K UNITED STATES ...  \n",
       "..     ...                                                ...  \n",
       "12     181   10-K 1 form10k.htm SOUTHWESTERN PUBLIC SERVIC...  \n",
       "13     182   10-K 1 form10k.htm SOUTHWESTERN PUBLIC SERVIC...  \n",
       "14     144   10-K 1 sps1231201310-k.htm 10-K SPS 12.31.201...  \n",
       "15     144   10-K 1 sps1231201410-k.htm 10-K SPS 12.31.201...  \n",
       "0       11   10-K 1 g67902e10-k.txt SPRINGS INDUSTRIES, IN...  \n",
       "\n",
       "[13803 rows x 9 columns]"
      ]
     },
     "execution_count": 48,
     "metadata": {},
     "output_type": "execute_result"
    }
   ],
   "source": [
    "sentiment_data"
   ]
  },
  {
   "cell_type": "code",
   "execution_count": 49,
   "id": "fba587d6",
   "metadata": {},
   "outputs": [],
   "source": [
    "sentiment_data = sentiment_data[pd.to_numeric(sentiment_data['gvkey'], errors='coerce').notnull()]"
   ]
  },
  {
   "cell_type": "code",
   "execution_count": 50,
   "id": "1e680bbf",
   "metadata": {},
   "outputs": [],
   "source": [
    "filing_data = sentiment_data[['gvkey', 'date', 'sentiment_score', 'tot_pos', 'tot_neu', 'tot_neg']]"
   ]
  },
  {
   "cell_type": "code",
   "execution_count": 51,
   "id": "badb8093",
   "metadata": {},
   "outputs": [],
   "source": [
    "filing_data['sum'] = filing_data['tot_neg'] + filing_data['tot_pos'] + filing_data['tot_neu']\n",
    "filing_data = filing_data[filing_data['sum'] != 0]\n",
    "\n",
    "filing_data['tot_neg'] = filing_data.tot_neg.replace(0, 1)"
   ]
  },
  {
   "cell_type": "code",
   "execution_count": 52,
   "id": "603ce2d5",
   "metadata": {},
   "outputs": [],
   "source": [
    "filing_data['pos_neg'] = filing_data['tot_pos'] / filing_data['tot_neg']\n",
    "filing_data['pos_rat'] = filing_data['tot_pos'] / (filing_data['tot_neg'] + filing_data['tot_pos'] + filing_data['tot_neu'])"
   ]
  },
  {
   "cell_type": "code",
   "execution_count": 53,
   "id": "3459c799",
   "metadata": {},
   "outputs": [],
   "source": [
    "filing_data['year'] = filing_data['date'].apply(lambda x : int(x[:4]) + 1)\n",
    "filing_data['year_2'] = filing_data['year'] + 1\n",
    "filing_data['year_3'] = filing_data['year'] + 2"
   ]
  },
  {
   "cell_type": "code",
   "execution_count": 54,
   "id": "2f736df8",
   "metadata": {},
   "outputs": [
    {
     "data": {
      "text/html": [
       "<div>\n",
       "<style scoped>\n",
       "    .dataframe tbody tr th:only-of-type {\n",
       "        vertical-align: middle;\n",
       "    }\n",
       "\n",
       "    .dataframe tbody tr th {\n",
       "        vertical-align: top;\n",
       "    }\n",
       "\n",
       "    .dataframe thead th {\n",
       "        text-align: right;\n",
       "    }\n",
       "</style>\n",
       "<table border=\"1\" class=\"dataframe\">\n",
       "  <thead>\n",
       "    <tr style=\"text-align: right;\">\n",
       "      <th></th>\n",
       "      <th>gvkey</th>\n",
       "      <th>date</th>\n",
       "      <th>sentiment_score</th>\n",
       "      <th>tot_pos</th>\n",
       "      <th>tot_neu</th>\n",
       "      <th>tot_neg</th>\n",
       "      <th>sum</th>\n",
       "      <th>pos_neg</th>\n",
       "      <th>pos_rat</th>\n",
       "      <th>year</th>\n",
       "      <th>year_2</th>\n",
       "      <th>year_3</th>\n",
       "    </tr>\n",
       "  </thead>\n",
       "  <tbody>\n",
       "    <tr>\n",
       "      <th>0</th>\n",
       "      <td>10005</td>\n",
       "      <td>2000-12-31</td>\n",
       "      <td>0.491296</td>\n",
       "      <td>47</td>\n",
       "      <td>414</td>\n",
       "      <td>56</td>\n",
       "      <td>517</td>\n",
       "      <td>0.839286</td>\n",
       "      <td>0.090909</td>\n",
       "      <td>2001</td>\n",
       "      <td>2002</td>\n",
       "      <td>2003</td>\n",
       "    </tr>\n",
       "    <tr>\n",
       "      <th>1</th>\n",
       "      <td>10005</td>\n",
       "      <td>2001-12-30</td>\n",
       "      <td>0.530717</td>\n",
       "      <td>40</td>\n",
       "      <td>231</td>\n",
       "      <td>22</td>\n",
       "      <td>293</td>\n",
       "      <td>1.818182</td>\n",
       "      <td>0.136519</td>\n",
       "      <td>2002</td>\n",
       "      <td>2003</td>\n",
       "      <td>2004</td>\n",
       "    </tr>\n",
       "    <tr>\n",
       "      <th>2</th>\n",
       "      <td>10005</td>\n",
       "      <td>2002-12-29</td>\n",
       "      <td>0.473976</td>\n",
       "      <td>129</td>\n",
       "      <td>853</td>\n",
       "      <td>190</td>\n",
       "      <td>1172</td>\n",
       "      <td>0.678947</td>\n",
       "      <td>0.110068</td>\n",
       "      <td>2003</td>\n",
       "      <td>2004</td>\n",
       "      <td>2005</td>\n",
       "    </tr>\n",
       "    <tr>\n",
       "      <th>3</th>\n",
       "      <td>10005</td>\n",
       "      <td>2003-12-28</td>\n",
       "      <td>0.468210</td>\n",
       "      <td>148</td>\n",
       "      <td>897</td>\n",
       "      <td>229</td>\n",
       "      <td>1274</td>\n",
       "      <td>0.646288</td>\n",
       "      <td>0.11617</td>\n",
       "      <td>2004</td>\n",
       "      <td>2005</td>\n",
       "      <td>2006</td>\n",
       "    </tr>\n",
       "    <tr>\n",
       "      <th>4</th>\n",
       "      <td>10005</td>\n",
       "      <td>2005-01-02</td>\n",
       "      <td>0.481028</td>\n",
       "      <td>165</td>\n",
       "      <td>887</td>\n",
       "      <td>213</td>\n",
       "      <td>1265</td>\n",
       "      <td>0.774648</td>\n",
       "      <td>0.130435</td>\n",
       "      <td>2006</td>\n",
       "      <td>2007</td>\n",
       "      <td>2008</td>\n",
       "    </tr>\n",
       "  </tbody>\n",
       "</table>\n",
       "</div>"
      ],
      "text/plain": [
       "   gvkey        date  sentiment_score tot_pos tot_neu  tot_neg   sum  \\\n",
       "0  10005  2000-12-31         0.491296      47     414       56   517   \n",
       "1  10005  2001-12-30         0.530717      40     231       22   293   \n",
       "2  10005  2002-12-29         0.473976     129     853      190  1172   \n",
       "3  10005  2003-12-28         0.468210     148     897      229  1274   \n",
       "4  10005  2005-01-02         0.481028     165     887      213  1265   \n",
       "\n",
       "    pos_neg   pos_rat  year  year_2  year_3  \n",
       "0  0.839286  0.090909  2001    2002    2003  \n",
       "1  1.818182  0.136519  2002    2003    2004  \n",
       "2  0.678947  0.110068  2003    2004    2005  \n",
       "3  0.646288   0.11617  2004    2005    2006  \n",
       "4  0.774648  0.130435  2006    2007    2008  "
      ]
     },
     "execution_count": 54,
     "metadata": {},
     "output_type": "execute_result"
    }
   ],
   "source": [
    "filing_data.head()"
   ]
  },
  {
   "cell_type": "code",
   "execution_count": 55,
   "id": "26f36dd6",
   "metadata": {},
   "outputs": [],
   "source": [
    "all_data1 = pd.merge(new_df, filing_data[['gvkey', 'year', 'sentiment_score', 'pos_neg', 'pos_rat']], left_on = ['gvkey', 'fyear'], right_on = ['gvkey', 'year'], suffixes = ['', '_1'])\n",
    "all_data2 = pd.merge(all_data1, filing_data[['gvkey', 'year_2', 'sentiment_score', 'pos_neg', 'pos_rat']], left_on = ['gvkey', 'fyear'], right_on = ['gvkey', 'year_2'], suffixes = ['', '_2'])\n",
    "all_data = pd.merge(all_data2, filing_data[['gvkey', 'year_3', 'sentiment_score', 'pos_neg', 'pos_rat']], left_on = ['gvkey', 'fyear'], right_on = ['gvkey', 'year_3'], suffixes = ['', '_3'])"
   ]
  },
  {
   "cell_type": "code",
   "execution_count": 56,
   "id": "d64f11d3",
   "metadata": {},
   "outputs": [
    {
     "data": {
      "text/html": [
       "<div>\n",
       "<style scoped>\n",
       "    .dataframe tbody tr th:only-of-type {\n",
       "        vertical-align: middle;\n",
       "    }\n",
       "\n",
       "    .dataframe tbody tr th {\n",
       "        vertical-align: top;\n",
       "    }\n",
       "\n",
       "    .dataframe thead th {\n",
       "        text-align: right;\n",
       "    }\n",
       "</style>\n",
       "<table border=\"1\" class=\"dataframe\">\n",
       "  <thead>\n",
       "    <tr style=\"text-align: right;\">\n",
       "      <th></th>\n",
       "      <th>gvkey</th>\n",
       "      <th>datadate</th>\n",
       "      <th>fyear</th>\n",
       "      <th>tic</th>\n",
       "      <th>ajex</th>\n",
       "      <th>curcd</th>\n",
       "      <th>fyr</th>\n",
       "      <th>act</th>\n",
       "      <th>at</th>\n",
       "      <th>bkvlps</th>\n",
       "      <th>...</th>\n",
       "      <th>roaps</th>\n",
       "      <th>sentiment_score</th>\n",
       "      <th>pos_neg</th>\n",
       "      <th>pos_rat</th>\n",
       "      <th>sentiment_score_2</th>\n",
       "      <th>pos_neg_2</th>\n",
       "      <th>pos_rat_2</th>\n",
       "      <th>sentiment_score_3</th>\n",
       "      <th>pos_neg_3</th>\n",
       "      <th>pos_rat_3</th>\n",
       "    </tr>\n",
       "  </thead>\n",
       "  <tbody>\n",
       "    <tr>\n",
       "      <th>0</th>\n",
       "      <td>1380</td>\n",
       "      <td>2003/12/31</td>\n",
       "      <td>2003.0</td>\n",
       "      <td>HES</td>\n",
       "      <td>3.00</td>\n",
       "      <td>USD</td>\n",
       "      <td>12.0</td>\n",
       "      <td>3186.000</td>\n",
       "      <td>13983.000</td>\n",
       "      <td>51.9095</td>\n",
       "      <td>...</td>\n",
       "      <td>0.000512</td>\n",
       "      <td>0.487981</td>\n",
       "      <td>0.642857</td>\n",
       "      <td>0.043269</td>\n",
       "      <td>0.471088</td>\n",
       "      <td>0.346154</td>\n",
       "      <td>0.030612</td>\n",
       "      <td>0.490310</td>\n",
       "      <td>0.736842</td>\n",
       "      <td>0.054264</td>\n",
       "    </tr>\n",
       "    <tr>\n",
       "      <th>1</th>\n",
       "      <td>1487</td>\n",
       "      <td>2003/12/31</td>\n",
       "      <td>2003.0</td>\n",
       "      <td>AIG</td>\n",
       "      <td>0.05</td>\n",
       "      <td>USD</td>\n",
       "      <td>12.0</td>\n",
       "      <td>2038.046</td>\n",
       "      <td>678346.000</td>\n",
       "      <td>27.3163</td>\n",
       "      <td>...</td>\n",
       "      <td>0.000005</td>\n",
       "      <td>0.480617</td>\n",
       "      <td>0.582938</td>\n",
       "      <td>0.054185</td>\n",
       "      <td>0.482171</td>\n",
       "      <td>0.584337</td>\n",
       "      <td>0.050129</td>\n",
       "      <td>0.491009</td>\n",
       "      <td>0.743802</td>\n",
       "      <td>0.052204</td>\n",
       "    </tr>\n",
       "    <tr>\n",
       "      <th>2</th>\n",
       "      <td>1663</td>\n",
       "      <td>2003/12/31</td>\n",
       "      <td>2003.0</td>\n",
       "      <td>BUD.2</td>\n",
       "      <td>1.00</td>\n",
       "      <td>USD</td>\n",
       "      <td>12.0</td>\n",
       "      <td>1630.300</td>\n",
       "      <td>14689.500</td>\n",
       "      <td>3.3350</td>\n",
       "      <td>...</td>\n",
       "      <td>0.000174</td>\n",
       "      <td>0.529963</td>\n",
       "      <td>2.777778</td>\n",
       "      <td>0.093633</td>\n",
       "      <td>0.544393</td>\n",
       "      <td>4.8</td>\n",
       "      <td>0.11215</td>\n",
       "      <td>0.536170</td>\n",
       "      <td>3.833333</td>\n",
       "      <td>0.097872</td>\n",
       "    </tr>\n",
       "    <tr>\n",
       "      <th>3</th>\n",
       "      <td>1976</td>\n",
       "      <td>2003/12/31</td>\n",
       "      <td>2003.0</td>\n",
       "      <td>BHI</td>\n",
       "      <td>1.00</td>\n",
       "      <td>USD</td>\n",
       "      <td>12.0</td>\n",
       "      <td>2523.900</td>\n",
       "      <td>6302.200</td>\n",
       "      <td>10.0916</td>\n",
       "      <td>...</td>\n",
       "      <td>0.000062</td>\n",
       "      <td>0.460949</td>\n",
       "      <td>0.43956</td>\n",
       "      <td>0.061256</td>\n",
       "      <td>0.485487</td>\n",
       "      <td>0.737288</td>\n",
       "      <td>0.081461</td>\n",
       "      <td>0.484199</td>\n",
       "      <td>0.717172</td>\n",
       "      <td>0.080135</td>\n",
       "    </tr>\n",
       "    <tr>\n",
       "      <th>4</th>\n",
       "      <td>2002</td>\n",
       "      <td>2003/12/31</td>\n",
       "      <td>2003.0</td>\n",
       "      <td>BPOP</td>\n",
       "      <td>0.20</td>\n",
       "      <td>USD</td>\n",
       "      <td>12.0</td>\n",
       "      <td>2038.046</td>\n",
       "      <td>36434.715</td>\n",
       "      <td>19.3205</td>\n",
       "      <td>...</td>\n",
       "      <td>0.000097</td>\n",
       "      <td>0.475057</td>\n",
       "      <td>0.241379</td>\n",
       "      <td>0.015873</td>\n",
       "      <td>0.478856</td>\n",
       "      <td>0.26087</td>\n",
       "      <td>0.014925</td>\n",
       "      <td>0.477961</td>\n",
       "      <td>0.238095</td>\n",
       "      <td>0.013774</td>\n",
       "    </tr>\n",
       "  </tbody>\n",
       "</table>\n",
       "<p>5 rows × 76 columns</p>\n",
       "</div>"
      ],
      "text/plain": [
       "  gvkey    datadate   fyear    tic  ajex curcd   fyr       act          at  \\\n",
       "0  1380  2003/12/31  2003.0    HES  3.00   USD  12.0  3186.000   13983.000   \n",
       "1  1487  2003/12/31  2003.0    AIG  0.05   USD  12.0  2038.046  678346.000   \n",
       "2  1663  2003/12/31  2003.0  BUD.2  1.00   USD  12.0  1630.300   14689.500   \n",
       "3  1976  2003/12/31  2003.0    BHI  1.00   USD  12.0  2523.900    6302.200   \n",
       "4  2002  2003/12/31  2003.0   BPOP  0.20   USD  12.0  2038.046   36434.715   \n",
       "\n",
       "    bkvlps  ...     roaps  sentiment_score   pos_neg   pos_rat  \\\n",
       "0  51.9095  ...  0.000512         0.487981  0.642857  0.043269   \n",
       "1  27.3163  ...  0.000005         0.480617  0.582938  0.054185   \n",
       "2   3.3350  ...  0.000174         0.529963  2.777778  0.093633   \n",
       "3  10.0916  ...  0.000062         0.460949   0.43956  0.061256   \n",
       "4  19.3205  ...  0.000097         0.475057  0.241379  0.015873   \n",
       "\n",
       "   sentiment_score_2  pos_neg_2  pos_rat_2  sentiment_score_3  pos_neg_3  \\\n",
       "0           0.471088   0.346154   0.030612           0.490310   0.736842   \n",
       "1           0.482171   0.584337   0.050129           0.491009   0.743802   \n",
       "2           0.544393        4.8    0.11215           0.536170   3.833333   \n",
       "3           0.485487   0.737288   0.081461           0.484199   0.717172   \n",
       "4           0.478856    0.26087   0.014925           0.477961   0.238095   \n",
       "\n",
       "   pos_rat_3  \n",
       "0   0.054264  \n",
       "1   0.052204  \n",
       "2   0.097872  \n",
       "3   0.080135  \n",
       "4   0.013774  \n",
       "\n",
       "[5 rows x 76 columns]"
      ]
     },
     "execution_count": 56,
     "metadata": {},
     "output_type": "execute_result"
    }
   ],
   "source": [
    "all_data = all_data.drop(['year', 'year_1', 'year_2', 'year_3'], axis = 1)\n",
    "all_data['fallen_angel'] = all_data.fallen_angel.apply(lambda x : int(x))\n",
    "\n",
    "all_data.head()"
   ]
  },
  {
   "cell_type": "code",
   "execution_count": 57,
   "id": "8c5c7ac1",
   "metadata": {},
   "outputs": [
    {
     "data": {
      "text/plain": [
       "Index(['gvkey', 'datadate', 'fyear', 'tic', 'ajex', 'curcd', 'fyr', 'act',\n",
       "       'at', 'bkvlps', 'capx', 'ceq', 'ch', 'cogs', 'csho', 'dltt', 'dt', 'dv',\n",
       "       'ebit', 'ebitda', 'invt', 'lct', 'ni', 'opeps', 're', 'revt', 'wcap',\n",
       "       'xacc', 'xad', 'xrd', 'exchg', 'prcc_f', 'ggroup', 'fallen_angel',\n",
       "       'csho_adj', 'pm', 'atr', 'fl', 'cr', 'de', 'roa', 'actps', 'atps',\n",
       "       'lctps', 'capxps', 'ceqps', 'chps', 'cogsps', 'dlttps', 'dtps', 'dvps',\n",
       "       'ebitps', 'ebitdaps', 'invtps', 'nips', 'reps', 'revtps', 'wcapps',\n",
       "       'xaccps', 'xadps', 'xrdps', 'pmps', 'atrps', 'flps', 'crps', 'deps',\n",
       "       'roaps', 'sentiment_score', 'pos_neg', 'pos_rat', 'sentiment_score_2',\n",
       "       'pos_neg_2', 'pos_rat_2', 'sentiment_score_3', 'pos_neg_3',\n",
       "       'pos_rat_3'],\n",
       "      dtype='object')"
      ]
     },
     "execution_count": 57,
     "metadata": {},
     "output_type": "execute_result"
    }
   ],
   "source": [
    "all_data.columns"
   ]
  },
  {
   "cell_type": "code",
   "execution_count": 58,
   "id": "393e5079",
   "metadata": {},
   "outputs": [
    {
     "data": {
      "text/plain": [
       "4979"
      ]
     },
     "execution_count": 58,
     "metadata": {},
     "output_type": "execute_result"
    }
   ],
   "source": [
    "len(all_data)"
   ]
  },
  {
   "cell_type": "code",
   "execution_count": 59,
   "id": "755243bd",
   "metadata": {},
   "outputs": [],
   "source": [
    "from sklearn.linear_model import LogisticRegression\n",
    "from sklearn.ensemble import RandomForestClassifier\n",
    "import xgboost as xgb\n",
    "from sklearn.metrics import confusion_matrix\n",
    "from sklearn.metrics import recall_score"
   ]
  },
  {
   "cell_type": "markdown",
   "id": "f9e25a78",
   "metadata": {},
   "source": [
    "**Training Data From 2000-2010 with Fallen Angel Oversampling, Testing Data 2010-**"
   ]
  },
  {
   "cell_type": "code",
   "execution_count": 60,
   "id": "a99aa112",
   "metadata": {},
   "outputs": [],
   "source": [
    "training_data = all_data[all_data['fyear'] <= 2010]\n",
    "training_angels = training_data[training_data['fallen_angel'] == 1]\n",
    "training_data = training_data[training_data['fallen_angel'] == 0]\n",
    "training_data = training_data.sample(n = len(training_angels), random_state = 43).append(training_angels) #43\n",
    "\n",
    "# for i in range(20):\n",
    "#     training_data = training_data.append(training_angels)\n",
    "\n",
    "testing_data = all_data[all_data['fyear'] > 2010]"
   ]
  },
  {
   "cell_type": "code",
   "execution_count": 61,
   "id": "f52cb21e",
   "metadata": {},
   "outputs": [
    {
     "data": {
      "text/plain": [
       "0    127\n",
       "1    127\n",
       "Name: fallen_angel, dtype: int64"
      ]
     },
     "execution_count": 61,
     "metadata": {},
     "output_type": "execute_result"
    }
   ],
   "source": [
    "training_data.fallen_angel.value_counts()"
   ]
  },
  {
   "cell_type": "markdown",
   "id": "d6c39dfc",
   "metadata": {},
   "source": [
    "**Fitting Models to Financial Data**"
   ]
  },
  {
   "cell_type": "code",
   "execution_count": 62,
   "id": "a9bbdaf0",
   "metadata": {},
   "outputs": [],
   "source": [
    "fin_model_cols_ps = ['actps', 'atps', 'bkvlps', 'capxps', 'ceqps', 'chps', 'cogsps', 'dlttps', 'dtps', 'dvps',\n",
    "                   'ebitps', 'ebitdaps', 'invtps', 'lctps', 'nips', 'opeps', 'reps', 'revtps', 'wcapps',\n",
    "                   'xaccps', 'xadps', 'xrdps', 'csho_adj', 'pmps', 'atrps',\n",
    "                   'flps', 'crps', 'deps', 'roaps']\n"
   ]
  },
  {
   "cell_type": "code",
   "execution_count": 63,
   "id": "6086a7de",
   "metadata": {},
   "outputs": [],
   "source": [
    "fin_model_cols = ['act', 'at', 'bkvlps', 'capx', 'ceq', 'ch', 'cogs', 'dltt', 'dt', 'dv',\n",
    "                   'ebit', 'ebitda', 'invt', 'lct', 'ni', 'opeps', 're', 'revt', 'wcap',\n",
    "                   'xacc', 'xad', 'xrd', 'csho_adj', 'pm', 'atr',\n",
    "                   'fl', 'cr', 'de', 'roa']\n",
    "\n",
    "lr_model_1 = LogisticRegression().fit(training_data[fin_model_cols_ps], training_data['fallen_angel'])"
   ]
  },
  {
   "cell_type": "code",
   "execution_count": 64,
   "id": "2bc81558",
   "metadata": {},
   "outputs": [
    {
     "data": {
      "text/plain": [
       "0.7783350050150452"
      ]
     },
     "execution_count": 64,
     "metadata": {},
     "output_type": "execute_result"
    }
   ],
   "source": [
    "lr_model_1.score(testing_data[fin_model_cols_ps], testing_data['fallen_angel'])"
   ]
  },
  {
   "cell_type": "code",
   "execution_count": 65,
   "id": "7f307aab",
   "metadata": {},
   "outputs": [
    {
     "data": {
      "text/plain": [
       "0.64"
      ]
     },
     "execution_count": 65,
     "metadata": {},
     "output_type": "execute_result"
    }
   ],
   "source": [
    "recall_score(testing_data['fallen_angel'], lr_model_1.predict(testing_data[fin_model_cols_ps]))"
   ]
  },
  {
   "cell_type": "code",
   "execution_count": 66,
   "id": "667500f9",
   "metadata": {},
   "outputs": [
    {
     "data": {
      "text/plain": [
       "array([[1520,  424],\n",
       "       [  18,   32]], dtype=int64)"
      ]
     },
     "execution_count": 66,
     "metadata": {},
     "output_type": "execute_result"
    }
   ],
   "source": [
    "confusion_matrix(testing_data['fallen_angel'], lr_model_1.predict(testing_data[fin_model_cols_ps]))"
   ]
  },
  {
   "cell_type": "code",
   "execution_count": 67,
   "id": "0d1a7804",
   "metadata": {},
   "outputs": [],
   "source": [
    "rf_model_1 = RandomForestClassifier().fit(training_data[fin_model_cols_ps], training_data['fallen_angel'])"
   ]
  },
  {
   "cell_type": "code",
   "execution_count": 68,
   "id": "9c18ed93",
   "metadata": {},
   "outputs": [
    {
     "data": {
      "text/plain": [
       "0.7382146439317954"
      ]
     },
     "execution_count": 68,
     "metadata": {},
     "output_type": "execute_result"
    }
   ],
   "source": [
    "rf_model_1.score(testing_data[fin_model_cols_ps], testing_data['fallen_angel'])"
   ]
  },
  {
   "cell_type": "code",
   "execution_count": 69,
   "id": "0e3ed241",
   "metadata": {},
   "outputs": [
    {
     "data": {
      "text/plain": [
       "0.78"
      ]
     },
     "execution_count": 69,
     "metadata": {},
     "output_type": "execute_result"
    }
   ],
   "source": [
    "recall_score(testing_data['fallen_angel'], np.where(rf_model_1.predict_proba(testing_data[fin_model_cols_ps])[:,1] > .45, 1, 0))"
   ]
  },
  {
   "cell_type": "code",
   "execution_count": 70,
   "id": "9be41b94",
   "metadata": {
    "scrolled": true
   },
   "outputs": [
    {
     "data": {
      "text/plain": [
       "array([[1276,  668],\n",
       "       [  11,   39]], dtype=int64)"
      ]
     },
     "execution_count": 70,
     "metadata": {},
     "output_type": "execute_result"
    }
   ],
   "source": [
    "confusion_matrix(testing_data['fallen_angel'], np.where(rf_model_1.predict_proba(testing_data[fin_model_cols_ps])[:,1] > .45, 1, 0))"
   ]
  },
  {
   "cell_type": "code",
   "execution_count": 71,
   "id": "9a4d2191",
   "metadata": {},
   "outputs": [],
   "source": [
    "fin_results = rf_model_1.predict_proba(testing_data[fin_model_cols_ps])[:, 0]"
   ]
  },
  {
   "cell_type": "markdown",
   "id": "f5e9b6b0",
   "metadata": {},
   "source": [
    "**Fitting Models to Textual Data**"
   ]
  },
  {
   "cell_type": "code",
   "execution_count": 72,
   "id": "1351b7ac",
   "metadata": {},
   "outputs": [],
   "source": [
    "text_model_cols = ['sentiment_score', 'pos_neg', 'pos_rat', 'sentiment_score_2',\n",
    "                   'pos_neg_2', 'pos_rat_2', 'sentiment_score_3', 'pos_neg_3',\n",
    "                   'pos_rat_3']\n",
    "\n",
    "lr_model_2 = LogisticRegression().fit(training_data[text_model_cols], training_data['fallen_angel'])"
   ]
  },
  {
   "cell_type": "code",
   "execution_count": 73,
   "id": "5e5e1b43",
   "metadata": {},
   "outputs": [
    {
     "data": {
      "text/plain": [
       "0.6850551654964895"
      ]
     },
     "execution_count": 73,
     "metadata": {},
     "output_type": "execute_result"
    }
   ],
   "source": [
    "lr_model_2.score(testing_data[text_model_cols], testing_data['fallen_angel'])"
   ]
  },
  {
   "cell_type": "code",
   "execution_count": 74,
   "id": "5f1f6f9b",
   "metadata": {},
   "outputs": [
    {
     "data": {
      "text/plain": [
       "0.32"
      ]
     },
     "execution_count": 74,
     "metadata": {},
     "output_type": "execute_result"
    }
   ],
   "source": [
    "recall_score(testing_data['fallen_angel'], lr_model_2.predict(testing_data[text_model_cols]))"
   ]
  },
  {
   "cell_type": "code",
   "execution_count": 75,
   "id": "48758992",
   "metadata": {},
   "outputs": [
    {
     "data": {
      "text/plain": [
       "array([[1350,  594],\n",
       "       [  34,   16]], dtype=int64)"
      ]
     },
     "execution_count": 75,
     "metadata": {},
     "output_type": "execute_result"
    }
   ],
   "source": [
    "confusion_matrix(testing_data['fallen_angel'], lr_model_2.predict(testing_data[text_model_cols]))"
   ]
  },
  {
   "cell_type": "code",
   "execution_count": 76,
   "id": "6f90dcf4",
   "metadata": {},
   "outputs": [],
   "source": [
    "rf_model_2 = RandomForestClassifier().fit(training_data[text_model_cols], training_data['fallen_angel'])"
   ]
  },
  {
   "cell_type": "code",
   "execution_count": 77,
   "id": "72ef386c",
   "metadata": {},
   "outputs": [
    {
     "data": {
      "text/plain": [
       "0.5897693079237714"
      ]
     },
     "execution_count": 77,
     "metadata": {},
     "output_type": "execute_result"
    }
   ],
   "source": [
    "rf_model_2.score(testing_data[text_model_cols], testing_data['fallen_angel'])"
   ]
  },
  {
   "cell_type": "code",
   "execution_count": 78,
   "id": "9b8bbdcc",
   "metadata": {},
   "outputs": [
    {
     "data": {
      "text/plain": [
       "0.3"
      ]
     },
     "execution_count": 78,
     "metadata": {},
     "output_type": "execute_result"
    }
   ],
   "source": [
    "recall_score(testing_data['fallen_angel'], rf_model_2.predict(testing_data[text_model_cols]))"
   ]
  },
  {
   "cell_type": "code",
   "execution_count": 79,
   "id": "c185b198",
   "metadata": {},
   "outputs": [
    {
     "data": {
      "text/plain": [
       "array([[ 388, 1556],\n",
       "       [   9,   41]], dtype=int64)"
      ]
     },
     "execution_count": 79,
     "metadata": {},
     "output_type": "execute_result"
    }
   ],
   "source": [
    "confusion_matrix(testing_data['fallen_angel'], np.where(rf_model_2.predict_proba(testing_data[text_model_cols])[:, 1] > .3, 1, 0))"
   ]
  },
  {
   "cell_type": "code",
   "execution_count": 80,
   "id": "0ac2b016",
   "metadata": {},
   "outputs": [],
   "source": [
    "text_results = rf_model_2.predict_proba(testing_data[text_model_cols])[:, 0]"
   ]
  },
  {
   "cell_type": "markdown",
   "id": "c1e9e528",
   "metadata": {},
   "source": [
    "**Fitting Models to All Data**"
   ]
  },
  {
   "cell_type": "code",
   "execution_count": 81,
   "id": "9c8b7191",
   "metadata": {},
   "outputs": [],
   "source": [
    "fintext_model_cols = fin_model_cols_ps + text_model_cols\n",
    "\n",
    "lr_model_3 = LogisticRegression().fit(training_data[fintext_model_cols], training_data['fallen_angel'])"
   ]
  },
  {
   "cell_type": "code",
   "execution_count": 82,
   "id": "f010f9ff",
   "metadata": {},
   "outputs": [
    {
     "data": {
      "text/plain": [
       "0.7477432296890673"
      ]
     },
     "execution_count": 82,
     "metadata": {},
     "output_type": "execute_result"
    }
   ],
   "source": [
    "lr_model_3.score(testing_data[fintext_model_cols], testing_data['fallen_angel'])"
   ]
  },
  {
   "cell_type": "code",
   "execution_count": 83,
   "id": "bb61c707",
   "metadata": {},
   "outputs": [
    {
     "data": {
      "text/plain": [
       "0.66"
      ]
     },
     "execution_count": 83,
     "metadata": {},
     "output_type": "execute_result"
    }
   ],
   "source": [
    "recall_score(testing_data['fallen_angel'], lr_model_3.predict(testing_data[fintext_model_cols]))"
   ]
  },
  {
   "cell_type": "code",
   "execution_count": 84,
   "id": "4c2b7ea5",
   "metadata": {},
   "outputs": [
    {
     "data": {
      "text/plain": [
       "array([[1458,  486],\n",
       "       [  17,   33]], dtype=int64)"
      ]
     },
     "execution_count": 84,
     "metadata": {},
     "output_type": "execute_result"
    }
   ],
   "source": [
    "confusion_matrix(testing_data['fallen_angel'], lr_model_3.predict(testing_data[fintext_model_cols]))"
   ]
  },
  {
   "cell_type": "code",
   "execution_count": 85,
   "id": "1ba874fd",
   "metadata": {},
   "outputs": [],
   "source": [
    "rf_model_3 = RandomForestClassifier().fit(training_data[fintext_model_cols], training_data['fallen_angel'])"
   ]
  },
  {
   "cell_type": "code",
   "execution_count": 86,
   "id": "1eec0de3",
   "metadata": {},
   "outputs": [
    {
     "data": {
      "text/plain": [
       "0.7392176529588766"
      ]
     },
     "execution_count": 86,
     "metadata": {},
     "output_type": "execute_result"
    }
   ],
   "source": [
    "rf_model_3.score(testing_data[fintext_model_cols], testing_data['fallen_angel'])"
   ]
  },
  {
   "cell_type": "code",
   "execution_count": 87,
   "id": "417ea4a6",
   "metadata": {},
   "outputs": [
    {
     "data": {
      "text/plain": [
       "0.9"
      ]
     },
     "execution_count": 87,
     "metadata": {},
     "output_type": "execute_result"
    }
   ],
   "source": [
    "rf_model_3_output = np.where(rf_model_3.predict_proba(testing_data[fintext_model_cols])[:,1] > .35, 1, 0)\n",
    "recall_score(testing_data['fallen_angel'], rf_model_3_output)"
   ]
  },
  {
   "cell_type": "code",
   "execution_count": 88,
   "id": "00ecde43",
   "metadata": {},
   "outputs": [
    {
     "data": {
      "text/plain": [
       "array([[ 877, 1067],\n",
       "       [   5,   45]], dtype=int64)"
      ]
     },
     "execution_count": 88,
     "metadata": {},
     "output_type": "execute_result"
    }
   ],
   "source": [
    "confusion_matrix(testing_data['fallen_angel'], rf_model_3_output)"
   ]
  },
  {
   "cell_type": "code",
   "execution_count": 89,
   "id": "2cc14d78",
   "metadata": {},
   "outputs": [],
   "source": [
    "fintext_results = rf_model_3.predict_proba(testing_data[fintext_model_cols])[:, 0]"
   ]
  },
  {
   "cell_type": "code",
   "execution_count": 90,
   "id": "b8dcb876",
   "metadata": {},
   "outputs": [
    {
     "data": {
      "text/plain": [
       "Index(['gvkey', 'datadate', 'fyear', 'tic', 'ajex', 'curcd', 'fyr', 'act',\n",
       "       'at', 'bkvlps', 'capx', 'ceq', 'ch', 'cogs', 'csho', 'dltt', 'dt', 'dv',\n",
       "       'ebit', 'ebitda', 'invt', 'lct', 'ni', 'opeps', 're', 'revt', 'wcap',\n",
       "       'xacc', 'xad', 'xrd', 'exchg', 'prcc_f', 'ggroup', 'fallen_angel',\n",
       "       'csho_adj', 'pm', 'atr', 'fl', 'cr', 'de', 'roa', 'actps', 'atps',\n",
       "       'lctps', 'capxps', 'ceqps', 'chps', 'cogsps', 'dlttps', 'dtps', 'dvps',\n",
       "       'ebitps', 'ebitdaps', 'invtps', 'nips', 'reps', 'revtps', 'wcapps',\n",
       "       'xaccps', 'xadps', 'xrdps', 'pmps', 'atrps', 'flps', 'crps', 'deps',\n",
       "       'roaps', 'sentiment_score', 'pos_neg', 'pos_rat', 'sentiment_score_2',\n",
       "       'pos_neg_2', 'pos_rat_2', 'sentiment_score_3', 'pos_neg_3',\n",
       "       'pos_rat_3'],\n",
       "      dtype='object')"
      ]
     },
     "execution_count": 90,
     "metadata": {},
     "output_type": "execute_result"
    }
   ],
   "source": [
    "testing_data.columns"
   ]
  },
  {
   "cell_type": "markdown",
   "id": "22ed3f37",
   "metadata": {},
   "source": [
    "**Creating Portfolios from the Models**"
   ]
  },
  {
   "cell_type": "code",
   "execution_count": 91,
   "id": "831c637f",
   "metadata": {},
   "outputs": [
    {
     "ename": "FileNotFoundError",
     "evalue": "[Errno 2] No such file or directory: 'MonthlyStockPrice.csv'",
     "output_type": "error",
     "traceback": [
      "\u001b[1;31m---------------------------------------------------------------------------\u001b[0m",
      "\u001b[1;31mFileNotFoundError\u001b[0m                         Traceback (most recent call last)",
      "\u001b[1;32m<ipython-input-91-36ddccd60383>\u001b[0m in \u001b[0;36m<module>\u001b[1;34m\u001b[0m\n\u001b[1;32m----> 1\u001b[1;33m \u001b[0mport_data\u001b[0m \u001b[1;33m=\u001b[0m \u001b[0mpd\u001b[0m\u001b[1;33m.\u001b[0m\u001b[0mread_csv\u001b[0m\u001b[1;33m(\u001b[0m\u001b[1;34m'MonthlyStockPrice.csv'\u001b[0m\u001b[1;33m)\u001b[0m\u001b[1;33m\u001b[0m\u001b[1;33m\u001b[0m\u001b[0m\n\u001b[0m\u001b[0;32m      2\u001b[0m \u001b[0mport_data\u001b[0m \u001b[1;33m=\u001b[0m \u001b[0mport_data\u001b[0m\u001b[1;33m.\u001b[0m\u001b[0mdrop\u001b[0m\u001b[1;33m(\u001b[0m\u001b[0mcolumns\u001b[0m\u001b[1;33m=\u001b[0m\u001b[1;34m'iid'\u001b[0m\u001b[1;33m)\u001b[0m\u001b[1;33m\u001b[0m\u001b[1;33m\u001b[0m\u001b[0m\n\u001b[0;32m      3\u001b[0m \u001b[0mport_data\u001b[0m\u001b[1;33m[\u001b[0m\u001b[1;34m'prcc_o'\u001b[0m\u001b[1;33m]\u001b[0m \u001b[1;33m=\u001b[0m \u001b[0mport_data\u001b[0m\u001b[1;33m.\u001b[0m\u001b[0mgroupby\u001b[0m\u001b[1;33m(\u001b[0m\u001b[1;34m'gvkey'\u001b[0m\u001b[1;33m)\u001b[0m\u001b[1;33m[\u001b[0m\u001b[1;34m'prccm'\u001b[0m\u001b[1;33m]\u001b[0m\u001b[1;33m.\u001b[0m\u001b[0mshift\u001b[0m\u001b[1;33m(\u001b[0m\u001b[1;36m1\u001b[0m\u001b[1;33m)\u001b[0m\u001b[1;33m\u001b[0m\u001b[1;33m\u001b[0m\u001b[0m\n\u001b[0;32m      4\u001b[0m \u001b[0mport_data\u001b[0m \u001b[1;33m=\u001b[0m \u001b[0mport_data\u001b[0m\u001b[1;33m.\u001b[0m\u001b[0mrename\u001b[0m\u001b[1;33m(\u001b[0m\u001b[0mcolumns\u001b[0m\u001b[1;33m=\u001b[0m\u001b[1;33m{\u001b[0m\u001b[1;34m'prccm'\u001b[0m\u001b[1;33m:\u001b[0m\u001b[1;34m'prcc_f'\u001b[0m\u001b[1;33m}\u001b[0m\u001b[1;33m)\u001b[0m\u001b[1;33m\u001b[0m\u001b[1;33m\u001b[0m\u001b[0m\n\u001b[0;32m      5\u001b[0m \u001b[0mport_data\u001b[0m\u001b[1;33m[\u001b[0m\u001b[1;34m'datadate'\u001b[0m\u001b[1;33m]\u001b[0m \u001b[1;33m=\u001b[0m \u001b[0mpd\u001b[0m\u001b[1;33m.\u001b[0m\u001b[0mto_datetime\u001b[0m\u001b[1;33m(\u001b[0m\u001b[0mport_data\u001b[0m\u001b[1;33m[\u001b[0m\u001b[1;34m'datadate'\u001b[0m\u001b[1;33m]\u001b[0m\u001b[1;33m,\u001b[0m\u001b[0mformat\u001b[0m\u001b[1;33m=\u001b[0m\u001b[1;34m'%m/%d/%Y'\u001b[0m\u001b[1;33m)\u001b[0m\u001b[1;33m\u001b[0m\u001b[1;33m\u001b[0m\u001b[0m\n",
      "\u001b[1;32m~\\anaconda3\\lib\\site-packages\\pandas\\io\\parsers.py\u001b[0m in \u001b[0;36mread_csv\u001b[1;34m(filepath_or_buffer, sep, delimiter, header, names, index_col, usecols, squeeze, prefix, mangle_dupe_cols, dtype, engine, converters, true_values, false_values, skipinitialspace, skiprows, skipfooter, nrows, na_values, keep_default_na, na_filter, verbose, skip_blank_lines, parse_dates, infer_datetime_format, keep_date_col, date_parser, dayfirst, cache_dates, iterator, chunksize, compression, thousands, decimal, lineterminator, quotechar, quoting, doublequote, escapechar, comment, encoding, dialect, error_bad_lines, warn_bad_lines, delim_whitespace, low_memory, memory_map, float_precision, storage_options)\u001b[0m\n\u001b[0;32m    608\u001b[0m     \u001b[0mkwds\u001b[0m\u001b[1;33m.\u001b[0m\u001b[0mupdate\u001b[0m\u001b[1;33m(\u001b[0m\u001b[0mkwds_defaults\u001b[0m\u001b[1;33m)\u001b[0m\u001b[1;33m\u001b[0m\u001b[1;33m\u001b[0m\u001b[0m\n\u001b[0;32m    609\u001b[0m \u001b[1;33m\u001b[0m\u001b[0m\n\u001b[1;32m--> 610\u001b[1;33m     \u001b[1;32mreturn\u001b[0m \u001b[0m_read\u001b[0m\u001b[1;33m(\u001b[0m\u001b[0mfilepath_or_buffer\u001b[0m\u001b[1;33m,\u001b[0m \u001b[0mkwds\u001b[0m\u001b[1;33m)\u001b[0m\u001b[1;33m\u001b[0m\u001b[1;33m\u001b[0m\u001b[0m\n\u001b[0m\u001b[0;32m    611\u001b[0m \u001b[1;33m\u001b[0m\u001b[0m\n\u001b[0;32m    612\u001b[0m \u001b[1;33m\u001b[0m\u001b[0m\n",
      "\u001b[1;32m~\\anaconda3\\lib\\site-packages\\pandas\\io\\parsers.py\u001b[0m in \u001b[0;36m_read\u001b[1;34m(filepath_or_buffer, kwds)\u001b[0m\n\u001b[0;32m    460\u001b[0m \u001b[1;33m\u001b[0m\u001b[0m\n\u001b[0;32m    461\u001b[0m     \u001b[1;31m# Create the parser.\u001b[0m\u001b[1;33m\u001b[0m\u001b[1;33m\u001b[0m\u001b[1;33m\u001b[0m\u001b[0m\n\u001b[1;32m--> 462\u001b[1;33m     \u001b[0mparser\u001b[0m \u001b[1;33m=\u001b[0m \u001b[0mTextFileReader\u001b[0m\u001b[1;33m(\u001b[0m\u001b[0mfilepath_or_buffer\u001b[0m\u001b[1;33m,\u001b[0m \u001b[1;33m**\u001b[0m\u001b[0mkwds\u001b[0m\u001b[1;33m)\u001b[0m\u001b[1;33m\u001b[0m\u001b[1;33m\u001b[0m\u001b[0m\n\u001b[0m\u001b[0;32m    463\u001b[0m \u001b[1;33m\u001b[0m\u001b[0m\n\u001b[0;32m    464\u001b[0m     \u001b[1;32mif\u001b[0m \u001b[0mchunksize\u001b[0m \u001b[1;32mor\u001b[0m \u001b[0miterator\u001b[0m\u001b[1;33m:\u001b[0m\u001b[1;33m\u001b[0m\u001b[1;33m\u001b[0m\u001b[0m\n",
      "\u001b[1;32m~\\anaconda3\\lib\\site-packages\\pandas\\io\\parsers.py\u001b[0m in \u001b[0;36m__init__\u001b[1;34m(self, f, engine, **kwds)\u001b[0m\n\u001b[0;32m    817\u001b[0m             \u001b[0mself\u001b[0m\u001b[1;33m.\u001b[0m\u001b[0moptions\u001b[0m\u001b[1;33m[\u001b[0m\u001b[1;34m\"has_index_names\"\u001b[0m\u001b[1;33m]\u001b[0m \u001b[1;33m=\u001b[0m \u001b[0mkwds\u001b[0m\u001b[1;33m[\u001b[0m\u001b[1;34m\"has_index_names\"\u001b[0m\u001b[1;33m]\u001b[0m\u001b[1;33m\u001b[0m\u001b[1;33m\u001b[0m\u001b[0m\n\u001b[0;32m    818\u001b[0m \u001b[1;33m\u001b[0m\u001b[0m\n\u001b[1;32m--> 819\u001b[1;33m         \u001b[0mself\u001b[0m\u001b[1;33m.\u001b[0m\u001b[0m_engine\u001b[0m \u001b[1;33m=\u001b[0m \u001b[0mself\u001b[0m\u001b[1;33m.\u001b[0m\u001b[0m_make_engine\u001b[0m\u001b[1;33m(\u001b[0m\u001b[0mself\u001b[0m\u001b[1;33m.\u001b[0m\u001b[0mengine\u001b[0m\u001b[1;33m)\u001b[0m\u001b[1;33m\u001b[0m\u001b[1;33m\u001b[0m\u001b[0m\n\u001b[0m\u001b[0;32m    820\u001b[0m \u001b[1;33m\u001b[0m\u001b[0m\n\u001b[0;32m    821\u001b[0m     \u001b[1;32mdef\u001b[0m \u001b[0mclose\u001b[0m\u001b[1;33m(\u001b[0m\u001b[0mself\u001b[0m\u001b[1;33m)\u001b[0m\u001b[1;33m:\u001b[0m\u001b[1;33m\u001b[0m\u001b[1;33m\u001b[0m\u001b[0m\n",
      "\u001b[1;32m~\\anaconda3\\lib\\site-packages\\pandas\\io\\parsers.py\u001b[0m in \u001b[0;36m_make_engine\u001b[1;34m(self, engine)\u001b[0m\n\u001b[0;32m   1048\u001b[0m             )\n\u001b[0;32m   1049\u001b[0m         \u001b[1;31m# error: Too many arguments for \"ParserBase\"\u001b[0m\u001b[1;33m\u001b[0m\u001b[1;33m\u001b[0m\u001b[1;33m\u001b[0m\u001b[0m\n\u001b[1;32m-> 1050\u001b[1;33m         \u001b[1;32mreturn\u001b[0m \u001b[0mmapping\u001b[0m\u001b[1;33m[\u001b[0m\u001b[0mengine\u001b[0m\u001b[1;33m]\u001b[0m\u001b[1;33m(\u001b[0m\u001b[0mself\u001b[0m\u001b[1;33m.\u001b[0m\u001b[0mf\u001b[0m\u001b[1;33m,\u001b[0m \u001b[1;33m**\u001b[0m\u001b[0mself\u001b[0m\u001b[1;33m.\u001b[0m\u001b[0moptions\u001b[0m\u001b[1;33m)\u001b[0m  \u001b[1;31m# type: ignore[call-arg]\u001b[0m\u001b[1;33m\u001b[0m\u001b[1;33m\u001b[0m\u001b[0m\n\u001b[0m\u001b[0;32m   1051\u001b[0m \u001b[1;33m\u001b[0m\u001b[0m\n\u001b[0;32m   1052\u001b[0m     \u001b[1;32mdef\u001b[0m \u001b[0m_failover_to_python\u001b[0m\u001b[1;33m(\u001b[0m\u001b[0mself\u001b[0m\u001b[1;33m)\u001b[0m\u001b[1;33m:\u001b[0m\u001b[1;33m\u001b[0m\u001b[1;33m\u001b[0m\u001b[0m\n",
      "\u001b[1;32m~\\anaconda3\\lib\\site-packages\\pandas\\io\\parsers.py\u001b[0m in \u001b[0;36m__init__\u001b[1;34m(self, src, **kwds)\u001b[0m\n\u001b[0;32m   1865\u001b[0m \u001b[1;33m\u001b[0m\u001b[0m\n\u001b[0;32m   1866\u001b[0m         \u001b[1;31m# open handles\u001b[0m\u001b[1;33m\u001b[0m\u001b[1;33m\u001b[0m\u001b[1;33m\u001b[0m\u001b[0m\n\u001b[1;32m-> 1867\u001b[1;33m         \u001b[0mself\u001b[0m\u001b[1;33m.\u001b[0m\u001b[0m_open_handles\u001b[0m\u001b[1;33m(\u001b[0m\u001b[0msrc\u001b[0m\u001b[1;33m,\u001b[0m \u001b[0mkwds\u001b[0m\u001b[1;33m)\u001b[0m\u001b[1;33m\u001b[0m\u001b[1;33m\u001b[0m\u001b[0m\n\u001b[0m\u001b[0;32m   1868\u001b[0m         \u001b[1;32massert\u001b[0m \u001b[0mself\u001b[0m\u001b[1;33m.\u001b[0m\u001b[0mhandles\u001b[0m \u001b[1;32mis\u001b[0m \u001b[1;32mnot\u001b[0m \u001b[1;32mNone\u001b[0m\u001b[1;33m\u001b[0m\u001b[1;33m\u001b[0m\u001b[0m\n\u001b[0;32m   1869\u001b[0m         \u001b[1;32mfor\u001b[0m \u001b[0mkey\u001b[0m \u001b[1;32min\u001b[0m \u001b[1;33m(\u001b[0m\u001b[1;34m\"storage_options\"\u001b[0m\u001b[1;33m,\u001b[0m \u001b[1;34m\"encoding\"\u001b[0m\u001b[1;33m,\u001b[0m \u001b[1;34m\"memory_map\"\u001b[0m\u001b[1;33m,\u001b[0m \u001b[1;34m\"compression\"\u001b[0m\u001b[1;33m)\u001b[0m\u001b[1;33m:\u001b[0m\u001b[1;33m\u001b[0m\u001b[1;33m\u001b[0m\u001b[0m\n",
      "\u001b[1;32m~\\anaconda3\\lib\\site-packages\\pandas\\io\\parsers.py\u001b[0m in \u001b[0;36m_open_handles\u001b[1;34m(self, src, kwds)\u001b[0m\n\u001b[0;32m   1360\u001b[0m         \u001b[0mLet\u001b[0m \u001b[0mthe\u001b[0m \u001b[0mreaders\u001b[0m \u001b[0mopen\u001b[0m \u001b[0mIOHanldes\u001b[0m \u001b[0mafter\u001b[0m \u001b[0mthey\u001b[0m \u001b[0mare\u001b[0m \u001b[0mdone\u001b[0m \u001b[1;32mwith\u001b[0m \u001b[0mtheir\u001b[0m \u001b[0mpotential\u001b[0m \u001b[0mraises\u001b[0m\u001b[1;33m.\u001b[0m\u001b[1;33m\u001b[0m\u001b[1;33m\u001b[0m\u001b[0m\n\u001b[0;32m   1361\u001b[0m         \"\"\"\n\u001b[1;32m-> 1362\u001b[1;33m         self.handles = get_handle(\n\u001b[0m\u001b[0;32m   1363\u001b[0m             \u001b[0msrc\u001b[0m\u001b[1;33m,\u001b[0m\u001b[1;33m\u001b[0m\u001b[1;33m\u001b[0m\u001b[0m\n\u001b[0;32m   1364\u001b[0m             \u001b[1;34m\"r\"\u001b[0m\u001b[1;33m,\u001b[0m\u001b[1;33m\u001b[0m\u001b[1;33m\u001b[0m\u001b[0m\n",
      "\u001b[1;32m~\\anaconda3\\lib\\site-packages\\pandas\\io\\common.py\u001b[0m in \u001b[0;36mget_handle\u001b[1;34m(path_or_buf, mode, encoding, compression, memory_map, is_text, errors, storage_options)\u001b[0m\n\u001b[0;32m    640\u001b[0m                 \u001b[0merrors\u001b[0m \u001b[1;33m=\u001b[0m \u001b[1;34m\"replace\"\u001b[0m\u001b[1;33m\u001b[0m\u001b[1;33m\u001b[0m\u001b[0m\n\u001b[0;32m    641\u001b[0m             \u001b[1;31m# Encoding\u001b[0m\u001b[1;33m\u001b[0m\u001b[1;33m\u001b[0m\u001b[1;33m\u001b[0m\u001b[0m\n\u001b[1;32m--> 642\u001b[1;33m             handle = open(\n\u001b[0m\u001b[0;32m    643\u001b[0m                 \u001b[0mhandle\u001b[0m\u001b[1;33m,\u001b[0m\u001b[1;33m\u001b[0m\u001b[1;33m\u001b[0m\u001b[0m\n\u001b[0;32m    644\u001b[0m                 \u001b[0mioargs\u001b[0m\u001b[1;33m.\u001b[0m\u001b[0mmode\u001b[0m\u001b[1;33m,\u001b[0m\u001b[1;33m\u001b[0m\u001b[1;33m\u001b[0m\u001b[0m\n",
      "\u001b[1;31mFileNotFoundError\u001b[0m: [Errno 2] No such file or directory: 'MonthlyStockPrice.csv'"
     ]
    }
   ],
   "source": [
    "port_data = pd.read_csv('MonthlyStockPrice.csv')\n",
    "port_data = port_data.drop(columns='iid')\n",
    "port_data['prcc_o'] = port_data.groupby('gvkey')['prccm'].shift(1)\n",
    "port_data = port_data.rename(columns={'prccm':'prcc_f'})\n",
    "port_data['datadate'] = pd.to_datetime(port_data['datadate'],format='%m/%d/%Y')\n",
    "port_data['fyear'] = port_data['datadate'].dt.year\n",
    "port_data = port_data[(port_data['fyear'] >= 2011) & (port_data['fyear'] <= 2016)]"
   ]
  },
  {
   "cell_type": "code",
   "execution_count": null,
   "id": "f664c7b1",
   "metadata": {},
   "outputs": [],
   "source": [
    "port_data"
   ]
  },
  {
   "cell_type": "code",
   "execution_count": null,
   "id": "37c387d3",
   "metadata": {},
   "outputs": [],
   "source": [
    "testing_data['fin_results'] = fin_results\n",
    "testing_data['text_results'] = text_results\n",
    "testing_data['fintext_results'] = fintext_results\n",
    " "
   ]
  },
  {
   "cell_type": "code",
   "execution_count": null,
   "id": "f43428bf",
   "metadata": {},
   "outputs": [],
   "source": [
    "port_data_final = pd.merge(testing_data[['gvkey', 'fyear', 'fin_results', 'text_results', 'fintext_results']], port_data, on = ['gvkey', 'fyear'])"
   ]
  },
  {
   "cell_type": "code",
   "execution_count": null,
   "id": "efa7b351",
   "metadata": {
    "scrolled": true
   },
   "outputs": [],
   "source": [
    "port_data_final"
   ]
  },
  {
   "cell_type": "code",
   "execution_count": null,
   "id": "8527c6d0",
   "metadata": {},
   "outputs": [],
   "source": [
    "port_data_final.gvkey.value_counts()"
   ]
  },
  {
   "cell_type": "markdown",
   "id": "13648021",
   "metadata": {},
   "source": [
    "**Fama-French Data**"
   ]
  },
  {
   "cell_type": "code",
   "execution_count": null,
   "id": "a6f040bf",
   "metadata": {},
   "outputs": [],
   "source": [
    "ff = pd.read_csv('FFannual.csv')\n",
    "ff = ff[(ff['Year'] >= 2011) & (ff['Year'] <= 2016)]\n",
    "ff"
   ]
  },
  {
   "cell_type": "markdown",
   "id": "85f3c110",
   "metadata": {},
   "source": [
    "**Portfolio from Financial Data**"
   ]
  },
  {
   "cell_type": "code",
   "execution_count": null,
   "id": "9358bd4c",
   "metadata": {},
   "outputs": [],
   "source": [
    "port_fin_sorted = pd.DataFrame()\n",
    "for i in range(int(port_data_final.fyear.min()), int(port_data_final.fyear.max() + 1)):\n",
    "    yearly_sorted = port_data_final[port_data_final['fyear'] == i].sort_values(by = 'fin_results', ascending = False)\n",
    "    port_fin_sorted = port_fin_sorted.append(yearly_sorted)\n",
    "\n",
    "port_fin_sorted = port_fin_sorted[['gvkey','datadate' ,'fyear', 'fin_results', 'prcc_f', 'prcc_o']]"
   ]
  },
  {
   "cell_type": "code",
   "execution_count": null,
   "id": "69f0dbb6",
   "metadata": {},
   "outputs": [],
   "source": [
    "port_fin_sorted.drop_duplicates(subset = ['gvkey', 'datadate'], inplace = True)\n",
    "port_fin_sorted = pd.merge(port_fin_sorted, ff,left_on=port_fin_sorted.fyear, right_on=ff.Year)\n",
    "port_fin_sorted = port_fin_sorted[['gvkey','datadate','fyear','fin_results','prcc_f','prcc_o','Mkt-RF','SMB','HML','RF']]\n",
    "port_fin_sorted['pct_change'] = (port_fin_sorted['prcc_f'] -  port_fin_sorted['prcc_o'])/port_fin_sorted['prcc_o']\n",
    "port_fin_sorted = port_fin_sorted.dropna(how='any')"
   ]
  },
  {
   "cell_type": "code",
   "execution_count": null,
   "id": "e0b26c34",
   "metadata": {},
   "outputs": [],
   "source": [
    "fin_port_returns = []\n",
    "\n",
    "for i in range(2011,2016):\n",
    "    yearly = port_fin_sorted[port_fin_sorted['fyear'] == i].groupby('gvkey')['pct_change'].mean()\n",
    "    top_gvkeys = port_fin_sorted[port_fin_sorted['fyear'] == i]['gvkey'].unique()[:5]\n",
    "    bot_gvkeys = port_fin_sorted[port_fin_sorted['fyear'] == i]['gvkey'].unique()[-5:]\n",
    "    cur_year_top = []\n",
    "    cur_year_bot = []  \n",
    "    \n",
    "    for x in range(len(yearly)):\n",
    "        for y in range(len(top_gvkeys)):\n",
    "            if top_gvkeys[y] == yearly.index[x]:\n",
    "                top = top_gvkeys[y]\n",
    "                cur_year_top.append(port_fin_sorted[(port_fin_sorted['gvkey'] == top) & (port_fin_sorted['fyear']==i)]['pct_change'].mean())\n",
    "                cur_year_top_ret = np.mean(cur_year_top)\n",
    "            if bot_gvkeys[y] == yearly.index[x]:\n",
    "                bot = bot_gvkeys[y]\n",
    "                cur_year_bot.append(port_fin_sorted[(port_fin_sorted['gvkey'] == bot) & (port_fin_sorted['fyear']==i)]['pct_change'].mean())\n",
    "                cur_year_bot_ret = np.mean(cur_year_bot)\n",
    "    \n",
    "    fin_port_returns.append(cur_year_top_ret-cur_year_bot_ret)\n",
    "\n",
    "  \n",
    "print('2011 returns: ',fin_port_returns[0],'\\n','2012 returns: ', fin_port_returns[1],'\\n','2013 returns: ', fin_port_returns[2], '\\n','2014 returns: ', fin_port_returns[3], '\\n','2015 returns: ', fin_port_returns[4], '\\n')"
   ]
  },
  {
   "cell_type": "markdown",
   "id": "d1f45851",
   "metadata": {},
   "source": [
    "**Portfolio from the Text Data**"
   ]
  },
  {
   "cell_type": "code",
   "execution_count": null,
   "id": "60df038b",
   "metadata": {},
   "outputs": [],
   "source": [
    "port_text_sorted = pd.DataFrame()\n",
    "for i in range(int(port_data_final.fyear.min()), int(port_data_final.fyear.max() + 1)):\n",
    "    yearly_sorted = port_data_final[port_data_final['fyear'] == i].sort_values(by = 'text_results', ascending = False)\n",
    "    port_text_sorted = port_text_sorted.append(yearly_sorted)\n",
    "\n",
    "port_text_sorted = port_text_sorted[['gvkey','datadate' ,'fyear', 'text_results', 'prcc_f', 'prcc_o']]"
   ]
  },
  {
   "cell_type": "code",
   "execution_count": null,
   "id": "7dd265c6",
   "metadata": {},
   "outputs": [],
   "source": [
    "port_text_sorted.drop_duplicates(subset = ['gvkey', 'datadate'], inplace = True)\n",
    "port_text_sorted = pd.merge(port_text_sorted, ff, left_on=port_text_sorted.fyear, right_on=ff.Year)\n",
    "port_text_sorted = port_text_sorted[['gvkey','datadate','fyear','text_results','prcc_f','prcc_o','Mkt-RF','SMB','HML','RF']]\n",
    "port_text_sorted['pct_change'] = (port_text_sorted['prcc_f'] -  port_text_sorted['prcc_o'])/port_text_sorted['prcc_o']\n",
    "port_text_sorted = port_text_sorted.dropna(how='any')"
   ]
  },
  {
   "cell_type": "code",
   "execution_count": null,
   "id": "468cfda0",
   "metadata": {},
   "outputs": [],
   "source": [
    "text_port_returns = []\n",
    "\n",
    "for i in range(2011,2016):\n",
    "    yearly = port_text_sorted[port_text_sorted['fyear'] == i].groupby('gvkey')['pct_change'].mean()\n",
    "    top_gvkeys = port_text_sorted[port_text_sorted['fyear'] == i]['gvkey'].unique()[:5]\n",
    "    bot_gvkeys = port_text_sorted[port_text_sorted['fyear'] == i]['gvkey'].unique()[-5:]\n",
    "    cur_year_top = []\n",
    "    cur_year_bot = []  \n",
    "    \n",
    "    for x in range(len(yearly)):\n",
    "        for y in range(len(top_gvkeys)):\n",
    "            if top_gvkeys[y] == yearly.index[x]:\n",
    "                top = top_gvkeys[y]\n",
    "                cur_year_top.append(port_text_sorted[(port_text_sorted['gvkey'] == top) & (port_text_sorted['fyear']==i)]['pct_change'].mean())\n",
    "                cur_year_top_ret = np.mean(cur_year_top)\n",
    "            if bot_gvkeys[y] == yearly.index[x]:\n",
    "                bot = bot_gvkeys[y]\n",
    "                cur_year_bot.append(port_text_sorted[(port_text_sorted['gvkey'] == bot) & (port_text_sorted['fyear']==i)]['pct_change'].mean())\n",
    "                cur_year_bot_ret = np.mean(cur_year_bot)\n",
    "    \n",
    "    text_port_returns.append(cur_year_top_ret-cur_year_bot_ret)\n",
    "\n",
    "  \n",
    "print('2011 returns: ',text_port_returns[0],'\\n','2012 returns: ', text_port_returns[1],'\\n','2013 returns: ', text_port_returns[2], '\\n','2014 returns: ', text_port_returns[3], '\\n','2015 returns: ', text_port_returns[4], '\\n')"
   ]
  },
  {
   "cell_type": "markdown",
   "id": "1ebabac5",
   "metadata": {},
   "source": [
    "**Portfolio from the Financial & Text Data**"
   ]
  },
  {
   "cell_type": "code",
   "execution_count": null,
   "id": "96729a71",
   "metadata": {},
   "outputs": [],
   "source": [
    "port_fintext_sorted = pd.DataFrame()\n",
    "for i in range(int(port_data_final.fyear.min()), int(port_data_final.fyear.max() + 1)):\n",
    "    yearly_sorted = port_data_final[port_data_final['fyear'] == i].sort_values(by = 'fintext_results', ascending = False)\n",
    "    port_fintext_sorted = port_fintext_sorted.append(yearly_sorted)\n",
    "\n",
    "port_fintext_sorted = port_fintext_sorted[['gvkey','datadate', 'fyear', 'fintext_results', 'prcc_f', 'prcc_o']]"
   ]
  },
  {
   "cell_type": "code",
   "execution_count": null,
   "id": "55632bda",
   "metadata": {},
   "outputs": [],
   "source": [
    "port_fintext_sorted.drop_duplicates(subset = ['gvkey', 'datadate'], inplace = True)\n",
    "port_fintext_sorted = pd.merge(port_fintext_sorted, ff,left_on=port_fintext_sorted.fyear, right_on=ff.Year)\n",
    "port_fintext_sorted = port_fintext_sorted[['gvkey','datadate','fyear','fintext_results','prcc_f','prcc_o','Mkt-RF','SMB','HML','RF']]\n",
    "port_fintext_sorted['pct_change'] = (port_fintext_sorted['prcc_f'] -  port_fintext_sorted['prcc_o'])/port_fintext_sorted['prcc_o']\n",
    "port_fintext_sorted = port_fintext_sorted.dropna(how='any')"
   ]
  },
  {
   "cell_type": "code",
   "execution_count": null,
   "id": "ea0c4013",
   "metadata": {},
   "outputs": [],
   "source": [
    "fintext_port_returns = []\n",
    "\n",
    "for i in range(2011,2016):\n",
    "    yearly = port_fintext_sorted[port_fintext_sorted['fyear'] == i].groupby('gvkey')['pct_change'].mean()\n",
    "    top_gvkeys = port_fintext_sorted[port_fintext_sorted['fyear'] == i]['gvkey'].unique()[:5]\n",
    "    bot_gvkeys = port_fintext_sorted[port_fintext_sorted['fyear'] == i]['gvkey'].unique()[-5:]\n",
    "    cur_year_top = []\n",
    "    cur_year_bot = []  \n",
    "    \n",
    "    for x in range(len(yearly)):\n",
    "        for y in range(len(top_gvkeys)):\n",
    "            if top_gvkeys[y] == yearly.index[x]:\n",
    "                top = top_gvkeys[y]\n",
    "                cur_year_top.append(port_fintext_sorted[(port_fintext_sorted['gvkey'] == top) & (port_fintext_sorted['fyear']==i)]['pct_change'].mean())\n",
    "                cur_year_top_ret = np.mean(cur_year_top)\n",
    "            if bot_gvkeys[y] == yearly.index[x]:\n",
    "                bot = bot_gvkeys[y]\n",
    "                cur_year_bot.append(port_fintext_sorted[(port_fintext_sorted['gvkey'] == bot) & (port_fintext_sorted['fyear']==i)]['pct_change'].mean())\n",
    "                cur_year_bot_ret = np.mean(cur_year_bot)\n",
    "    \n",
    "    fintext_port_returns.append(cur_year_top_ret-cur_year_bot_ret)\n",
    "\n",
    "   \n",
    "print('2011 returns: ',fintext_port_returns[0],'\\n','2012 returns: ', fintext_port_returns[1],'\\n','2013 returns: ', fintext_port_returns[2], '\\n','2014 returns: ', fintext_port_returns[3], '\\n','2015 returns: ', fintext_port_returns[4], '\\n')"
   ]
  },
  {
   "cell_type": "code",
   "execution_count": null,
   "id": "d55b4a70",
   "metadata": {},
   "outputs": [],
   "source": []
  }
 ],
 "metadata": {
  "kernelspec": {
   "display_name": "Python 3",
   "language": "python",
   "name": "python3"
  },
  "language_info": {
   "codemirror_mode": {
    "name": "ipython",
    "version": 3
   },
   "file_extension": ".py",
   "mimetype": "text/x-python",
   "name": "python",
   "nbconvert_exporter": "python",
   "pygments_lexer": "ipython3",
   "version": "3.8.8"
  }
 },
 "nbformat": 4,
 "nbformat_minor": 5
}
